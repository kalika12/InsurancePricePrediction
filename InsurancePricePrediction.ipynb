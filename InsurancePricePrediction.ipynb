{
 "cells": [
  {
   "cell_type": "markdown",
   "id": "5830ad0e",
   "metadata": {},
   "source": [
    "# Problem Definition"
   ]
  },
  {
   "cell_type": "markdown",
   "id": "6cbf5977",
   "metadata": {},
   "source": [
    "- The objective of this project is to analyze the dataset's results of insurance price charged to the costomer and perform machine learning algorithms for predicting the price charged to the customers based on various features to buy an insurance."
   ]
  },
  {
   "cell_type": "markdown",
   "id": "1f44f068",
   "metadata": {},
   "source": [
    "## Business Case: :-  Create a machine learning model to predict the insurance price charged to the customer."
   ]
  },
  {
   "cell_type": "code",
   "execution_count": 83,
   "id": "7746743b",
   "metadata": {},
   "outputs": [],
   "source": [
    "import numpy as np\n",
    "import pandas as pd\n",
    "import seaborn as sns\n",
    "import matplotlib.pyplot as plt"
   ]
  },
  {
   "cell_type": "code",
   "execution_count": 84,
   "id": "951d79d6",
   "metadata": {},
   "outputs": [],
   "source": [
    "data=pd.read_csv('insurance.csv')"
   ]
  },
  {
   "cell_type": "code",
   "execution_count": 85,
   "id": "b5448584",
   "metadata": {},
   "outputs": [
    {
     "data": {
      "text/html": [
       "<div>\n",
       "<style scoped>\n",
       "    .dataframe tbody tr th:only-of-type {\n",
       "        vertical-align: middle;\n",
       "    }\n",
       "\n",
       "    .dataframe tbody tr th {\n",
       "        vertical-align: top;\n",
       "    }\n",
       "\n",
       "    .dataframe thead th {\n",
       "        text-align: right;\n",
       "    }\n",
       "</style>\n",
       "<table border=\"1\" class=\"dataframe\">\n",
       "  <thead>\n",
       "    <tr style=\"text-align: right;\">\n",
       "      <th></th>\n",
       "      <th>age</th>\n",
       "      <th>sex</th>\n",
       "      <th>bmi</th>\n",
       "      <th>children</th>\n",
       "      <th>smoker</th>\n",
       "      <th>region</th>\n",
       "      <th>charges</th>\n",
       "    </tr>\n",
       "  </thead>\n",
       "  <tbody>\n",
       "    <tr>\n",
       "      <th>0</th>\n",
       "      <td>19</td>\n",
       "      <td>female</td>\n",
       "      <td>27.900</td>\n",
       "      <td>0</td>\n",
       "      <td>yes</td>\n",
       "      <td>southwest</td>\n",
       "      <td>16884.92400</td>\n",
       "    </tr>\n",
       "    <tr>\n",
       "      <th>1</th>\n",
       "      <td>18</td>\n",
       "      <td>male</td>\n",
       "      <td>33.770</td>\n",
       "      <td>1</td>\n",
       "      <td>no</td>\n",
       "      <td>southeast</td>\n",
       "      <td>1725.55230</td>\n",
       "    </tr>\n",
       "    <tr>\n",
       "      <th>2</th>\n",
       "      <td>28</td>\n",
       "      <td>male</td>\n",
       "      <td>33.000</td>\n",
       "      <td>3</td>\n",
       "      <td>no</td>\n",
       "      <td>southeast</td>\n",
       "      <td>4449.46200</td>\n",
       "    </tr>\n",
       "    <tr>\n",
       "      <th>3</th>\n",
       "      <td>33</td>\n",
       "      <td>male</td>\n",
       "      <td>22.705</td>\n",
       "      <td>0</td>\n",
       "      <td>no</td>\n",
       "      <td>northwest</td>\n",
       "      <td>21984.47061</td>\n",
       "    </tr>\n",
       "    <tr>\n",
       "      <th>4</th>\n",
       "      <td>32</td>\n",
       "      <td>male</td>\n",
       "      <td>28.880</td>\n",
       "      <td>0</td>\n",
       "      <td>no</td>\n",
       "      <td>northwest</td>\n",
       "      <td>3866.85520</td>\n",
       "    </tr>\n",
       "    <tr>\n",
       "      <th>...</th>\n",
       "      <td>...</td>\n",
       "      <td>...</td>\n",
       "      <td>...</td>\n",
       "      <td>...</td>\n",
       "      <td>...</td>\n",
       "      <td>...</td>\n",
       "      <td>...</td>\n",
       "    </tr>\n",
       "    <tr>\n",
       "      <th>1333</th>\n",
       "      <td>50</td>\n",
       "      <td>male</td>\n",
       "      <td>30.970</td>\n",
       "      <td>3</td>\n",
       "      <td>no</td>\n",
       "      <td>northwest</td>\n",
       "      <td>10600.54830</td>\n",
       "    </tr>\n",
       "    <tr>\n",
       "      <th>1334</th>\n",
       "      <td>18</td>\n",
       "      <td>female</td>\n",
       "      <td>31.920</td>\n",
       "      <td>0</td>\n",
       "      <td>no</td>\n",
       "      <td>northeast</td>\n",
       "      <td>2205.98080</td>\n",
       "    </tr>\n",
       "    <tr>\n",
       "      <th>1335</th>\n",
       "      <td>18</td>\n",
       "      <td>female</td>\n",
       "      <td>36.850</td>\n",
       "      <td>0</td>\n",
       "      <td>no</td>\n",
       "      <td>southeast</td>\n",
       "      <td>1629.83350</td>\n",
       "    </tr>\n",
       "    <tr>\n",
       "      <th>1336</th>\n",
       "      <td>21</td>\n",
       "      <td>female</td>\n",
       "      <td>25.800</td>\n",
       "      <td>0</td>\n",
       "      <td>no</td>\n",
       "      <td>southwest</td>\n",
       "      <td>2007.94500</td>\n",
       "    </tr>\n",
       "    <tr>\n",
       "      <th>1337</th>\n",
       "      <td>61</td>\n",
       "      <td>female</td>\n",
       "      <td>29.070</td>\n",
       "      <td>0</td>\n",
       "      <td>yes</td>\n",
       "      <td>northwest</td>\n",
       "      <td>29141.36030</td>\n",
       "    </tr>\n",
       "  </tbody>\n",
       "</table>\n",
       "<p>1338 rows × 7 columns</p>\n",
       "</div>"
      ],
      "text/plain": [
       "      age     sex     bmi  children smoker     region      charges\n",
       "0      19  female  27.900         0    yes  southwest  16884.92400\n",
       "1      18    male  33.770         1     no  southeast   1725.55230\n",
       "2      28    male  33.000         3     no  southeast   4449.46200\n",
       "3      33    male  22.705         0     no  northwest  21984.47061\n",
       "4      32    male  28.880         0     no  northwest   3866.85520\n",
       "...   ...     ...     ...       ...    ...        ...          ...\n",
       "1333   50    male  30.970         3     no  northwest  10600.54830\n",
       "1334   18  female  31.920         0     no  northeast   2205.98080\n",
       "1335   18  female  36.850         0     no  southeast   1629.83350\n",
       "1336   21  female  25.800         0     no  southwest   2007.94500\n",
       "1337   61  female  29.070         0    yes  northwest  29141.36030\n",
       "\n",
       "[1338 rows x 7 columns]"
      ]
     },
     "execution_count": 85,
     "metadata": {},
     "output_type": "execute_result"
    }
   ],
   "source": [
    "data"
   ]
  },
  {
   "cell_type": "markdown",
   "id": "18da4135",
   "metadata": {},
   "source": [
    "## Domain Analysis"
   ]
  },
  {
   "cell_type": "code",
   "execution_count": 8,
   "id": "371c008a",
   "metadata": {},
   "outputs": [
    {
     "data": {
      "text/plain": [
       "Index(['age', 'sex', 'bmi', 'children', 'smoker', 'region', 'charges'], dtype='object')"
      ]
     },
     "execution_count": 8,
     "metadata": {},
     "output_type": "execute_result"
    }
   ],
   "source": [
    "data.columns"
   ]
  },
  {
   "cell_type": "raw",
   "id": "a35f6555",
   "metadata": {},
   "source": [
    "•\tAge: age of primary beneficiary .\n",
    "\n",
    "•\tSex: insurance contractor gender, female, male.\n",
    "\n",
    "•\tBmi: Body mass index, providing an understanding of body, weights that are relatively high or low relative to height,\n",
    "    objective index of body weight (kg / m ^ 2) using the ratio of height to weight, ideally 18.5 to 24.9 .\n",
    "    \n",
    "•\tChildren: Number of children covered by health insurance / Number of dependents.\n",
    "\n",
    "•\tSmoker: A term insurance applicant is categorized as a smoker if he/she has consumed tobacco in any form in the last 12                months. Compared to a non-smoker, the term insurance premiums for a person who smokes can be almost 30%-40% higher.\n",
    "\n",
    "•\tRegion: the beneficiary's residential area in the US, northeast, southeast, southwest, northwest.\n",
    "\n",
    "•\tCharges: Individual medical costs billed by health insurance.\n"
   ]
  },
  {
   "cell_type": "markdown",
   "id": "0d09a09c",
   "metadata": {},
   "source": [
    "## Basic checks"
   ]
  },
  {
   "cell_type": "code",
   "execution_count": 9,
   "id": "398bed88",
   "metadata": {},
   "outputs": [
    {
     "data": {
      "text/html": [
       "<div>\n",
       "<style scoped>\n",
       "    .dataframe tbody tr th:only-of-type {\n",
       "        vertical-align: middle;\n",
       "    }\n",
       "\n",
       "    .dataframe tbody tr th {\n",
       "        vertical-align: top;\n",
       "    }\n",
       "\n",
       "    .dataframe thead th {\n",
       "        text-align: right;\n",
       "    }\n",
       "</style>\n",
       "<table border=\"1\" class=\"dataframe\">\n",
       "  <thead>\n",
       "    <tr style=\"text-align: right;\">\n",
       "      <th></th>\n",
       "      <th>age</th>\n",
       "      <th>sex</th>\n",
       "      <th>bmi</th>\n",
       "      <th>children</th>\n",
       "      <th>smoker</th>\n",
       "      <th>region</th>\n",
       "      <th>charges</th>\n",
       "    </tr>\n",
       "  </thead>\n",
       "  <tbody>\n",
       "    <tr>\n",
       "      <th>0</th>\n",
       "      <td>19</td>\n",
       "      <td>female</td>\n",
       "      <td>27.900</td>\n",
       "      <td>0</td>\n",
       "      <td>yes</td>\n",
       "      <td>southwest</td>\n",
       "      <td>16884.92400</td>\n",
       "    </tr>\n",
       "    <tr>\n",
       "      <th>1</th>\n",
       "      <td>18</td>\n",
       "      <td>male</td>\n",
       "      <td>33.770</td>\n",
       "      <td>1</td>\n",
       "      <td>no</td>\n",
       "      <td>southeast</td>\n",
       "      <td>1725.55230</td>\n",
       "    </tr>\n",
       "    <tr>\n",
       "      <th>2</th>\n",
       "      <td>28</td>\n",
       "      <td>male</td>\n",
       "      <td>33.000</td>\n",
       "      <td>3</td>\n",
       "      <td>no</td>\n",
       "      <td>southeast</td>\n",
       "      <td>4449.46200</td>\n",
       "    </tr>\n",
       "    <tr>\n",
       "      <th>3</th>\n",
       "      <td>33</td>\n",
       "      <td>male</td>\n",
       "      <td>22.705</td>\n",
       "      <td>0</td>\n",
       "      <td>no</td>\n",
       "      <td>northwest</td>\n",
       "      <td>21984.47061</td>\n",
       "    </tr>\n",
       "    <tr>\n",
       "      <th>4</th>\n",
       "      <td>32</td>\n",
       "      <td>male</td>\n",
       "      <td>28.880</td>\n",
       "      <td>0</td>\n",
       "      <td>no</td>\n",
       "      <td>northwest</td>\n",
       "      <td>3866.85520</td>\n",
       "    </tr>\n",
       "  </tbody>\n",
       "</table>\n",
       "</div>"
      ],
      "text/plain": [
       "   age     sex     bmi  children smoker     region      charges\n",
       "0   19  female  27.900         0    yes  southwest  16884.92400\n",
       "1   18    male  33.770         1     no  southeast   1725.55230\n",
       "2   28    male  33.000         3     no  southeast   4449.46200\n",
       "3   33    male  22.705         0     no  northwest  21984.47061\n",
       "4   32    male  28.880         0     no  northwest   3866.85520"
      ]
     },
     "execution_count": 9,
     "metadata": {},
     "output_type": "execute_result"
    }
   ],
   "source": [
    "data.head()"
   ]
  },
  {
   "cell_type": "code",
   "execution_count": 10,
   "id": "8d3e2526",
   "metadata": {},
   "outputs": [
    {
     "data": {
      "text/html": [
       "<div>\n",
       "<style scoped>\n",
       "    .dataframe tbody tr th:only-of-type {\n",
       "        vertical-align: middle;\n",
       "    }\n",
       "\n",
       "    .dataframe tbody tr th {\n",
       "        vertical-align: top;\n",
       "    }\n",
       "\n",
       "    .dataframe thead th {\n",
       "        text-align: right;\n",
       "    }\n",
       "</style>\n",
       "<table border=\"1\" class=\"dataframe\">\n",
       "  <thead>\n",
       "    <tr style=\"text-align: right;\">\n",
       "      <th></th>\n",
       "      <th>age</th>\n",
       "      <th>sex</th>\n",
       "      <th>bmi</th>\n",
       "      <th>children</th>\n",
       "      <th>smoker</th>\n",
       "      <th>region</th>\n",
       "      <th>charges</th>\n",
       "    </tr>\n",
       "  </thead>\n",
       "  <tbody>\n",
       "    <tr>\n",
       "      <th>1333</th>\n",
       "      <td>50</td>\n",
       "      <td>male</td>\n",
       "      <td>30.97</td>\n",
       "      <td>3</td>\n",
       "      <td>no</td>\n",
       "      <td>northwest</td>\n",
       "      <td>10600.5483</td>\n",
       "    </tr>\n",
       "    <tr>\n",
       "      <th>1334</th>\n",
       "      <td>18</td>\n",
       "      <td>female</td>\n",
       "      <td>31.92</td>\n",
       "      <td>0</td>\n",
       "      <td>no</td>\n",
       "      <td>northeast</td>\n",
       "      <td>2205.9808</td>\n",
       "    </tr>\n",
       "    <tr>\n",
       "      <th>1335</th>\n",
       "      <td>18</td>\n",
       "      <td>female</td>\n",
       "      <td>36.85</td>\n",
       "      <td>0</td>\n",
       "      <td>no</td>\n",
       "      <td>southeast</td>\n",
       "      <td>1629.8335</td>\n",
       "    </tr>\n",
       "    <tr>\n",
       "      <th>1336</th>\n",
       "      <td>21</td>\n",
       "      <td>female</td>\n",
       "      <td>25.80</td>\n",
       "      <td>0</td>\n",
       "      <td>no</td>\n",
       "      <td>southwest</td>\n",
       "      <td>2007.9450</td>\n",
       "    </tr>\n",
       "    <tr>\n",
       "      <th>1337</th>\n",
       "      <td>61</td>\n",
       "      <td>female</td>\n",
       "      <td>29.07</td>\n",
       "      <td>0</td>\n",
       "      <td>yes</td>\n",
       "      <td>northwest</td>\n",
       "      <td>29141.3603</td>\n",
       "    </tr>\n",
       "  </tbody>\n",
       "</table>\n",
       "</div>"
      ],
      "text/plain": [
       "      age     sex    bmi  children smoker     region     charges\n",
       "1333   50    male  30.97         3     no  northwest  10600.5483\n",
       "1334   18  female  31.92         0     no  northeast   2205.9808\n",
       "1335   18  female  36.85         0     no  southeast   1629.8335\n",
       "1336   21  female  25.80         0     no  southwest   2007.9450\n",
       "1337   61  female  29.07         0    yes  northwest  29141.3603"
      ]
     },
     "execution_count": 10,
     "metadata": {},
     "output_type": "execute_result"
    }
   ],
   "source": [
    "data.tail()"
   ]
  },
  {
   "cell_type": "code",
   "execution_count": 11,
   "id": "6b88792d",
   "metadata": {},
   "outputs": [
    {
     "name": "stdout",
     "output_type": "stream",
     "text": [
      "<class 'pandas.core.frame.DataFrame'>\n",
      "RangeIndex: 1338 entries, 0 to 1337\n",
      "Data columns (total 7 columns):\n",
      " #   Column    Non-Null Count  Dtype  \n",
      "---  ------    --------------  -----  \n",
      " 0   age       1338 non-null   int64  \n",
      " 1   sex       1338 non-null   object \n",
      " 2   bmi       1338 non-null   float64\n",
      " 3   children  1338 non-null   int64  \n",
      " 4   smoker    1338 non-null   object \n",
      " 5   region    1338 non-null   object \n",
      " 6   charges   1338 non-null   float64\n",
      "dtypes: float64(2), int64(2), object(3)\n",
      "memory usage: 73.3+ KB\n"
     ]
    }
   ],
   "source": [
    "data.info()"
   ]
  },
  {
   "cell_type": "code",
   "execution_count": 12,
   "id": "6cd2ede2",
   "metadata": {},
   "outputs": [
    {
     "data": {
      "text/html": [
       "<div>\n",
       "<style scoped>\n",
       "    .dataframe tbody tr th:only-of-type {\n",
       "        vertical-align: middle;\n",
       "    }\n",
       "\n",
       "    .dataframe tbody tr th {\n",
       "        vertical-align: top;\n",
       "    }\n",
       "\n",
       "    .dataframe thead th {\n",
       "        text-align: right;\n",
       "    }\n",
       "</style>\n",
       "<table border=\"1\" class=\"dataframe\">\n",
       "  <thead>\n",
       "    <tr style=\"text-align: right;\">\n",
       "      <th></th>\n",
       "      <th>age</th>\n",
       "      <th>bmi</th>\n",
       "      <th>children</th>\n",
       "      <th>charges</th>\n",
       "    </tr>\n",
       "  </thead>\n",
       "  <tbody>\n",
       "    <tr>\n",
       "      <th>count</th>\n",
       "      <td>1338.000000</td>\n",
       "      <td>1338.000000</td>\n",
       "      <td>1338.000000</td>\n",
       "      <td>1338.000000</td>\n",
       "    </tr>\n",
       "    <tr>\n",
       "      <th>mean</th>\n",
       "      <td>39.207025</td>\n",
       "      <td>30.663397</td>\n",
       "      <td>1.094918</td>\n",
       "      <td>13270.422265</td>\n",
       "    </tr>\n",
       "    <tr>\n",
       "      <th>std</th>\n",
       "      <td>14.049960</td>\n",
       "      <td>6.098187</td>\n",
       "      <td>1.205493</td>\n",
       "      <td>12110.011237</td>\n",
       "    </tr>\n",
       "    <tr>\n",
       "      <th>min</th>\n",
       "      <td>18.000000</td>\n",
       "      <td>15.960000</td>\n",
       "      <td>0.000000</td>\n",
       "      <td>1121.873900</td>\n",
       "    </tr>\n",
       "    <tr>\n",
       "      <th>25%</th>\n",
       "      <td>27.000000</td>\n",
       "      <td>26.296250</td>\n",
       "      <td>0.000000</td>\n",
       "      <td>4740.287150</td>\n",
       "    </tr>\n",
       "    <tr>\n",
       "      <th>50%</th>\n",
       "      <td>39.000000</td>\n",
       "      <td>30.400000</td>\n",
       "      <td>1.000000</td>\n",
       "      <td>9382.033000</td>\n",
       "    </tr>\n",
       "    <tr>\n",
       "      <th>75%</th>\n",
       "      <td>51.000000</td>\n",
       "      <td>34.693750</td>\n",
       "      <td>2.000000</td>\n",
       "      <td>16639.912515</td>\n",
       "    </tr>\n",
       "    <tr>\n",
       "      <th>max</th>\n",
       "      <td>64.000000</td>\n",
       "      <td>53.130000</td>\n",
       "      <td>5.000000</td>\n",
       "      <td>63770.428010</td>\n",
       "    </tr>\n",
       "  </tbody>\n",
       "</table>\n",
       "</div>"
      ],
      "text/plain": [
       "               age          bmi     children       charges\n",
       "count  1338.000000  1338.000000  1338.000000   1338.000000\n",
       "mean     39.207025    30.663397     1.094918  13270.422265\n",
       "std      14.049960     6.098187     1.205493  12110.011237\n",
       "min      18.000000    15.960000     0.000000   1121.873900\n",
       "25%      27.000000    26.296250     0.000000   4740.287150\n",
       "50%      39.000000    30.400000     1.000000   9382.033000\n",
       "75%      51.000000    34.693750     2.000000  16639.912515\n",
       "max      64.000000    53.130000     5.000000  63770.428010"
      ]
     },
     "execution_count": 12,
     "metadata": {},
     "output_type": "execute_result"
    }
   ],
   "source": [
    "data.describe()"
   ]
  },
  {
   "cell_type": "code",
   "execution_count": 13,
   "id": "f1572dce",
   "metadata": {},
   "outputs": [
    {
     "data": {
      "text/html": [
       "<div>\n",
       "<style scoped>\n",
       "    .dataframe tbody tr th:only-of-type {\n",
       "        vertical-align: middle;\n",
       "    }\n",
       "\n",
       "    .dataframe tbody tr th {\n",
       "        vertical-align: top;\n",
       "    }\n",
       "\n",
       "    .dataframe thead th {\n",
       "        text-align: right;\n",
       "    }\n",
       "</style>\n",
       "<table border=\"1\" class=\"dataframe\">\n",
       "  <thead>\n",
       "    <tr style=\"text-align: right;\">\n",
       "      <th></th>\n",
       "      <th>sex</th>\n",
       "      <th>smoker</th>\n",
       "      <th>region</th>\n",
       "    </tr>\n",
       "  </thead>\n",
       "  <tbody>\n",
       "    <tr>\n",
       "      <th>count</th>\n",
       "      <td>1338</td>\n",
       "      <td>1338</td>\n",
       "      <td>1338</td>\n",
       "    </tr>\n",
       "    <tr>\n",
       "      <th>unique</th>\n",
       "      <td>2</td>\n",
       "      <td>2</td>\n",
       "      <td>4</td>\n",
       "    </tr>\n",
       "    <tr>\n",
       "      <th>top</th>\n",
       "      <td>male</td>\n",
       "      <td>no</td>\n",
       "      <td>southeast</td>\n",
       "    </tr>\n",
       "    <tr>\n",
       "      <th>freq</th>\n",
       "      <td>676</td>\n",
       "      <td>1064</td>\n",
       "      <td>364</td>\n",
       "    </tr>\n",
       "  </tbody>\n",
       "</table>\n",
       "</div>"
      ],
      "text/plain": [
       "         sex smoker     region\n",
       "count   1338   1338       1338\n",
       "unique     2      2          4\n",
       "top     male     no  southeast\n",
       "freq     676   1064        364"
      ]
     },
     "execution_count": 13,
     "metadata": {},
     "output_type": "execute_result"
    }
   ],
   "source": [
    "data.describe(include='O')"
   ]
  },
  {
   "cell_type": "markdown",
   "id": "4d8591e7",
   "metadata": {},
   "source": [
    "# Exploratory Data Analysis"
   ]
  },
  {
   "cell_type": "markdown",
   "id": "4bcf4de4",
   "metadata": {},
   "source": [
    "# Univariate Analysis"
   ]
  },
  {
   "cell_type": "code",
   "execution_count": 14,
   "id": "76d4d9a4",
   "metadata": {
    "scrolled": true
   },
   "outputs": [
    {
     "data": {
      "application/vnd.jupyter.widget-view+json": {
       "model_id": "43ea06d4a23d41359e09665368403789",
       "version_major": 2,
       "version_minor": 0
      },
      "text/plain": [
       "                                             |                                             | [  0%]   00:00 ->…"
      ]
     },
     "metadata": {},
     "output_type": "display_data"
    },
    {
     "name": "stdout",
     "output_type": "stream",
     "text": [
      "Report SWEETVIZ_REPORT.html was generated! NOTEBOOK/COLAB USERS: the web browser MAY not pop up, regardless, the report IS saved in your notebook/colab files.\n"
     ]
    }
   ],
   "source": [
    "import sweetviz as sv\n",
    "report=sv.analyze(data)\n",
    "report.show_html()"
   ]
  },
  {
   "cell_type": "markdown",
   "id": "8cc58823",
   "metadata": {},
   "source": [
    "# Insights:"
   ]
  },
  {
   "cell_type": "markdown",
   "id": "65209c8b",
   "metadata": {},
   "source": [
    "Age:  \n",
    "  - The dataset shows that the person can buy insurance at the minimum age of 18 years.\n",
    "  - The dataset shows that the person can buy insurance untill the maximum age of 64 years.\n",
    "  - Around 10% people are buying it at an age between 18 to 19  years.\n",
    "  - Maximum people buy insurance between age of 20 to 30 years.\n",
    "  - The avg age of buyers is 39 years.\n",
    "Sex:  \n",
    "   - 51% of the male and 49% of the female buys insurance.\n",
    "\n",
    "BMI:\n",
    "   - BMI data is normally distributed.\n",
    "   - Maximum insurance buyer have BMI between 25 to 35.\n",
    "   - Average BMI is 30.5.\n",
    "   \n",
    "Children:\n",
    "   - People who dont have any child buys the insurance. They are 43% of the total population.\n",
    "   - There are only 1% of the people having 5 children. \n",
    "    \n",
    "Smoke:\n",
    "   - 80% of the people who dont smoke buys the insurance.\n",
    "\n",
    "region:\n",
    "   - About 27% of the people living in the south east areas buys the insurance.\n",
    "\n",
    "Charges:\n",
    "   - Maximum charges for the insurance is 63770 units.\n",
    "   - Maximum buyers pay between 0.0k to 20.0k.\n",
    "   - Minimum charges for the insurance is 1122 units.\n",
    "   - Average charges for the insurance is 13,270 units."
   ]
  },
  {
   "cell_type": "code",
   "execution_count": 12,
   "id": "1358856e",
   "metadata": {},
   "outputs": [
    {
     "data": {
      "text/html": [
       "<div>\n",
       "<style scoped>\n",
       "    .dataframe tbody tr th:only-of-type {\n",
       "        vertical-align: middle;\n",
       "    }\n",
       "\n",
       "    .dataframe tbody tr th {\n",
       "        vertical-align: top;\n",
       "    }\n",
       "\n",
       "    .dataframe thead th {\n",
       "        text-align: right;\n",
       "    }\n",
       "</style>\n",
       "<table border=\"1\" class=\"dataframe\">\n",
       "  <thead>\n",
       "    <tr style=\"text-align: right;\">\n",
       "      <th></th>\n",
       "      <th>age</th>\n",
       "      <th>bmi</th>\n",
       "      <th>children</th>\n",
       "      <th>charges</th>\n",
       "    </tr>\n",
       "  </thead>\n",
       "  <tbody>\n",
       "    <tr>\n",
       "      <th>count</th>\n",
       "      <td>1338.000000</td>\n",
       "      <td>1338.000000</td>\n",
       "      <td>1338.000000</td>\n",
       "      <td>1338.000000</td>\n",
       "    </tr>\n",
       "    <tr>\n",
       "      <th>mean</th>\n",
       "      <td>39.207025</td>\n",
       "      <td>30.663397</td>\n",
       "      <td>1.094918</td>\n",
       "      <td>13270.422265</td>\n",
       "    </tr>\n",
       "    <tr>\n",
       "      <th>std</th>\n",
       "      <td>14.049960</td>\n",
       "      <td>6.098187</td>\n",
       "      <td>1.205493</td>\n",
       "      <td>12110.011237</td>\n",
       "    </tr>\n",
       "    <tr>\n",
       "      <th>min</th>\n",
       "      <td>18.000000</td>\n",
       "      <td>15.960000</td>\n",
       "      <td>0.000000</td>\n",
       "      <td>1121.873900</td>\n",
       "    </tr>\n",
       "    <tr>\n",
       "      <th>25%</th>\n",
       "      <td>27.000000</td>\n",
       "      <td>26.296250</td>\n",
       "      <td>0.000000</td>\n",
       "      <td>4740.287150</td>\n",
       "    </tr>\n",
       "    <tr>\n",
       "      <th>50%</th>\n",
       "      <td>39.000000</td>\n",
       "      <td>30.400000</td>\n",
       "      <td>1.000000</td>\n",
       "      <td>9382.033000</td>\n",
       "    </tr>\n",
       "    <tr>\n",
       "      <th>75%</th>\n",
       "      <td>51.000000</td>\n",
       "      <td>34.693750</td>\n",
       "      <td>2.000000</td>\n",
       "      <td>16639.912515</td>\n",
       "    </tr>\n",
       "    <tr>\n",
       "      <th>max</th>\n",
       "      <td>64.000000</td>\n",
       "      <td>53.130000</td>\n",
       "      <td>5.000000</td>\n",
       "      <td>63770.428010</td>\n",
       "    </tr>\n",
       "  </tbody>\n",
       "</table>\n",
       "</div>"
      ],
      "text/plain": [
       "               age          bmi     children       charges\n",
       "count  1338.000000  1338.000000  1338.000000   1338.000000\n",
       "mean     39.207025    30.663397     1.094918  13270.422265\n",
       "std      14.049960     6.098187     1.205493  12110.011237\n",
       "min      18.000000    15.960000     0.000000   1121.873900\n",
       "25%      27.000000    26.296250     0.000000   4740.287150\n",
       "50%      39.000000    30.400000     1.000000   9382.033000\n",
       "75%      51.000000    34.693750     2.000000  16639.912515\n",
       "max      64.000000    53.130000     5.000000  63770.428010"
      ]
     },
     "execution_count": 12,
     "metadata": {},
     "output_type": "execute_result"
    }
   ],
   "source": [
    "data.describe()"
   ]
  },
  {
   "cell_type": "markdown",
   "id": "ab3ae948",
   "metadata": {},
   "source": [
    "# Bivariate Analysis"
   ]
  },
  {
   "cell_type": "code",
   "execution_count": 81,
   "id": "7197caac",
   "metadata": {},
   "outputs": [
    {
     "data": {
      "image/png": "[encoded data removed]",
      "text/plain": [
       "<Figure size 4000x4000 with 7 Axes>"
      ]
     },
     "metadata": {},
     "output_type": "display_data"
    }
   ],
   "source": [
    "plt.figure(figsize=(40,40),facecolor='white')\n",
    "plotnumber=1\n",
    "for column in data:\n",
    "    if plotnumber<=8:\n",
    "        ax=plt.subplot(4,2,plotnumber)\n",
    "        sns.countplot(x=data[column])\n",
    "        plt.xlabel(column,fontsize=25)\n",
    "        plt.ylabel('Counts',fontsize=25)\n",
    "    plotnumber+=1\n",
    "plt.tight_layout()"
   ]
  },
  {
   "cell_type": "markdown",
   "id": "f24de9b4",
   "metadata": {},
   "source": [
    "# Insights"
   ]
  },
  {
   "cell_type": "markdown",
   "id": "e091877f",
   "metadata": {},
   "source": [
    "Age:  \n",
    "  - The dataset shows that the person can buy insurance maximum at the minimum age of 18 years.\n",
    "  - Around 10% people are buying it at an age between 18 to 19  years.\n",
    "  \n",
    "Sex:  \n",
    "   - 51% of the male and 49% of the female buys insurance.\n",
    "\n",
    "BMI:\n",
    "   - BMI data is normally distributed.\n",
    "   \n",
    "Children:\n",
    "   - People who dont have any child buys the insurance. They are 43% of the total population.\n",
    "   - There are only 1% of the people having 5 children. \n",
    "    \n",
    "Smoke:\n",
    "   - 80% of the people who dont smoke buys the insurance.\n",
    "\n",
    "region:\n",
    "   - About 27% of the people living in the south east areas buys the insurance.\n",
    "\n"
   ]
  },
  {
   "cell_type": "markdown",
   "id": "5497701f",
   "metadata": {},
   "source": [
    "## Data Preprocessing"
   ]
  },
  {
   "cell_type": "code",
   "execution_count": 88,
   "id": "05b86137",
   "metadata": {},
   "outputs": [
    {
     "data": {
      "text/plain": [
       "age         0\n",
       "sex         0\n",
       "bmi         0\n",
       "children    0\n",
       "smoker      0\n",
       "region      0\n",
       "charges     0\n",
       "dtype: int64"
      ]
     },
     "execution_count": 88,
     "metadata": {},
     "output_type": "execute_result"
    }
   ],
   "source": [
    "## Checking the missing values\n",
    "data.isnull().sum()"
   ]
  },
  {
   "cell_type": "raw",
   "id": "cad76d70",
   "metadata": {},
   "source": [
    "## Checking the outliers in age columns"
   ]
  },
  {
   "cell_type": "code",
   "execution_count": 28,
   "id": "a5f19803",
   "metadata": {},
   "outputs": [
    {
     "name": "stderr",
     "output_type": "stream",
     "text": [
      "C:\\Users\\asati\\anaconda3\\lib\\site-packages\\seaborn\\_decorators.py:36: FutureWarning: Pass the following variable as a keyword arg: x. From version 0.12, the only valid positional argument will be `data`, and passing other arguments without an explicit keyword will result in an error or misinterpretation.\n",
      "  warnings.warn(\n"
     ]
    },
    {
     "data": {
      "image/png": "[encoded data removed]",
      "text/plain": [
       "<Figure size 640x480 with 1 Axes>"
      ]
     },
     "metadata": {},
     "output_type": "display_data"
    }
   ],
   "source": [
    "\n",
    "sns.boxplot(data['age'])\n",
    "plt.show()"
   ]
  },
  {
   "cell_type": "markdown",
   "id": "a93aa2b1",
   "metadata": {},
   "source": [
    "There is no outliers in the age column"
   ]
  },
  {
   "cell_type": "raw",
   "id": "59ab3ab9",
   "metadata": {},
   "source": [
    "# Checking the outliers in the BMI columns"
   ]
  },
  {
   "cell_type": "code",
   "execution_count": 29,
   "id": "29f8ac62",
   "metadata": {
    "scrolled": true
   },
   "outputs": [
    {
     "name": "stderr",
     "output_type": "stream",
     "text": [
      "C:\\Users\\asati\\anaconda3\\lib\\site-packages\\seaborn\\_decorators.py:36: FutureWarning: Pass the following variable as a keyword arg: x. From version 0.12, the only valid positional argument will be `data`, and passing other arguments without an explicit keyword will result in an error or misinterpretation.\n",
      "  warnings.warn(\n"
     ]
    },
    {
     "data": {
      "image/png": "[encoded data removed]",
      "text/plain": [
       "<Figure size 640x480 with 1 Axes>"
      ]
     },
     "metadata": {},
     "output_type": "display_data"
    }
   ],
   "source": [
    "\n",
    "sns.boxplot(data['bmi'])\n",
    "plt.show()"
   ]
  },
  {
   "cell_type": "markdown",
   "id": "b2812b1f",
   "metadata": {},
   "source": [
    "## Handling outliers in the bmi columns"
   ]
  },
  {
   "cell_type": "code",
   "execution_count": 86,
   "id": "74696fd7",
   "metadata": {},
   "outputs": [],
   "source": [
    "from scipy import stats"
   ]
  },
  {
   "cell_type": "code",
   "execution_count": 87,
   "id": "497b941a",
   "metadata": {},
   "outputs": [
    {
     "data": {
      "text/plain": [
       "8.384999999999998"
      ]
     },
     "execution_count": 87,
     "metadata": {},
     "output_type": "execute_result"
    }
   ],
   "source": [
    "IQR=stats.iqr(data.bmi,interpolation='midpoint')\n",
    "IQR"
   ]
  },
  {
   "cell_type": "code",
   "execution_count": 88,
   "id": "8d5c275b",
   "metadata": {},
   "outputs": [
    {
     "name": "stdout",
     "output_type": "stream",
     "text": [
      "13.718750000000004 47.271249999999995\n"
     ]
    }
   ],
   "source": [
    "Q1=data.bmi.quantile(0.25)\n",
    "Q3=data.bmi.quantile(0.75)\n",
    "min_limit=Q1-1.5*IQR\n",
    "max_limit=Q3+1.5*IQR\n",
    "print(min_limit,max_limit)"
   ]
  },
  {
   "cell_type": "code",
   "execution_count": 89,
   "id": "e4b6a246",
   "metadata": {},
   "outputs": [
    {
     "data": {
      "text/plain": [
       "0"
      ]
     },
     "execution_count": 89,
     "metadata": {},
     "output_type": "execute_result"
    }
   ],
   "source": [
    "len(data.loc[data['bmi']<min_limit])"
   ]
  },
  {
   "cell_type": "code",
   "execution_count": 90,
   "id": "822d54d2",
   "metadata": {},
   "outputs": [
    {
     "data": {
      "text/plain": [
       "9"
      ]
     },
     "execution_count": 90,
     "metadata": {},
     "output_type": "execute_result"
    }
   ],
   "source": [
    "len(data.loc[data['bmi']>max_limit])"
   ]
  },
  {
   "cell_type": "code",
   "execution_count": 91,
   "id": "3c707d41",
   "metadata": {},
   "outputs": [
    {
     "data": {
      "text/plain": [
       "(1338, 7)"
      ]
     },
     "execution_count": 91,
     "metadata": {},
     "output_type": "execute_result"
    }
   ],
   "source": [
    "data.shape"
   ]
  },
  {
   "cell_type": "code",
   "execution_count": 92,
   "id": "8fab62ca",
   "metadata": {},
   "outputs": [
    {
     "data": {
      "text/plain": [
       "0.672645739910314"
      ]
     },
     "execution_count": 92,
     "metadata": {},
     "output_type": "execute_result"
    }
   ],
   "source": [
    "## Calculating the percentage of the outliers\n",
    "\n",
    "9/1338*100"
   ]
  },
  {
   "cell_type": "code",
   "execution_count": 93,
   "id": "33136db0",
   "metadata": {},
   "outputs": [],
   "source": [
    "## imputing the outliers with median\n",
    "\n",
    "data.loc[data['bmi']>max_limit,'bmi']=np.median(data.bmi)"
   ]
  },
  {
   "cell_type": "code",
   "execution_count": 97,
   "id": "3cfa94a0",
   "metadata": {},
   "outputs": [
    {
     "name": "stderr",
     "output_type": "stream",
     "text": [
      "C:\\Users\\asati\\anaconda3\\lib\\site-packages\\seaborn\\_decorators.py:36: FutureWarning: Pass the following variable as a keyword arg: x. From version 0.12, the only valid positional argument will be `data`, and passing other arguments without an explicit keyword will result in an error or misinterpretation.\n",
      "  warnings.warn(\n"
     ]
    },
    {
     "data": {
      "image/png": "[encoded data removed]",
      "text/plain": [
       "<Figure size 640x480 with 1 Axes>"
      ]
     },
     "metadata": {},
     "output_type": "display_data"
    }
   ],
   "source": [
    "sns.boxplot(data['bmi'])\n",
    "plt.show()"
   ]
  },
  {
   "cell_type": "raw",
   "id": "a1b5ad8d",
   "metadata": {},
   "source": [
    "All the outliers are removed."
   ]
  },
  {
   "cell_type": "markdown",
   "id": "7e2f41e9",
   "metadata": {},
   "source": [
    "## Checking outliers in children column"
   ]
  },
  {
   "cell_type": "code",
   "execution_count": 39,
   "id": "9f655d8d",
   "metadata": {},
   "outputs": [
    {
     "name": "stderr",
     "output_type": "stream",
     "text": [
      "C:\\Users\\asati\\anaconda3\\lib\\site-packages\\seaborn\\_decorators.py:36: FutureWarning: Pass the following variable as a keyword arg: x. From version 0.12, the only valid positional argument will be `data`, and passing other arguments without an explicit keyword will result in an error or misinterpretation.\n",
      "  warnings.warn(\n"
     ]
    },
    {
     "data": {
      "image/png": "[encoded data removed]",
      "text/plain": [
       "<Figure size 640x480 with 1 Axes>"
      ]
     },
     "metadata": {},
     "output_type": "display_data"
    }
   ],
   "source": [
    "sns.boxplot(data['children'])\n",
    "plt.show()"
   ]
  },
  {
   "cell_type": "raw",
   "id": "05395458",
   "metadata": {},
   "source": [
    "There are no outliers in the children column"
   ]
  },
  {
   "cell_type": "markdown",
   "id": "8616c910",
   "metadata": {},
   "source": [
    "## Conversion of categorical to numerical values"
   ]
  },
  {
   "cell_type": "code",
   "execution_count": 24,
   "id": "09de1926",
   "metadata": {},
   "outputs": [
    {
     "data": {
      "text/html": [
       "<div>\n",
       "<style scoped>\n",
       "    .dataframe tbody tr th:only-of-type {\n",
       "        vertical-align: middle;\n",
       "    }\n",
       "\n",
       "    .dataframe tbody tr th {\n",
       "        vertical-align: top;\n",
       "    }\n",
       "\n",
       "    .dataframe thead th {\n",
       "        text-align: right;\n",
       "    }\n",
       "</style>\n",
       "<table border=\"1\" class=\"dataframe\">\n",
       "  <thead>\n",
       "    <tr style=\"text-align: right;\">\n",
       "      <th></th>\n",
       "      <th>sex</th>\n",
       "      <th>smoker</th>\n",
       "      <th>region</th>\n",
       "    </tr>\n",
       "  </thead>\n",
       "  <tbody>\n",
       "    <tr>\n",
       "      <th>count</th>\n",
       "      <td>1338</td>\n",
       "      <td>1338</td>\n",
       "      <td>1338</td>\n",
       "    </tr>\n",
       "    <tr>\n",
       "      <th>unique</th>\n",
       "      <td>2</td>\n",
       "      <td>2</td>\n",
       "      <td>4</td>\n",
       "    </tr>\n",
       "    <tr>\n",
       "      <th>top</th>\n",
       "      <td>male</td>\n",
       "      <td>no</td>\n",
       "      <td>southeast</td>\n",
       "    </tr>\n",
       "    <tr>\n",
       "      <th>freq</th>\n",
       "      <td>676</td>\n",
       "      <td>1064</td>\n",
       "      <td>364</td>\n",
       "    </tr>\n",
       "  </tbody>\n",
       "</table>\n",
       "</div>"
      ],
      "text/plain": [
       "         sex smoker     region\n",
       "count   1338   1338       1338\n",
       "unique     2      2          4\n",
       "top     male     no  southeast\n",
       "freq     676   1064        364"
      ]
     },
     "execution_count": 24,
     "metadata": {},
     "output_type": "execute_result"
    }
   ],
   "source": [
    "data.describe(include='O')"
   ]
  },
  {
   "cell_type": "code",
   "execution_count": 94,
   "id": "a19ab139",
   "metadata": {},
   "outputs": [],
   "source": [
    "data['sex']=data['sex'].map({'male':1,'female':0})\n",
    "data['smoker']=data['smoker'].map({'yes':1,'no':0})"
   ]
  },
  {
   "cell_type": "code",
   "execution_count": 95,
   "id": "49018bbd",
   "metadata": {},
   "outputs": [
    {
     "data": {
      "text/html": [
       "<div>\n",
       "<style scoped>\n",
       "    .dataframe tbody tr th:only-of-type {\n",
       "        vertical-align: middle;\n",
       "    }\n",
       "\n",
       "    .dataframe tbody tr th {\n",
       "        vertical-align: top;\n",
       "    }\n",
       "\n",
       "    .dataframe thead th {\n",
       "        text-align: right;\n",
       "    }\n",
       "</style>\n",
       "<table border=\"1\" class=\"dataframe\">\n",
       "  <thead>\n",
       "    <tr style=\"text-align: right;\">\n",
       "      <th></th>\n",
       "      <th>age</th>\n",
       "      <th>sex</th>\n",
       "      <th>bmi</th>\n",
       "      <th>children</th>\n",
       "      <th>smoker</th>\n",
       "      <th>region</th>\n",
       "      <th>charges</th>\n",
       "    </tr>\n",
       "  </thead>\n",
       "  <tbody>\n",
       "    <tr>\n",
       "      <th>0</th>\n",
       "      <td>19</td>\n",
       "      <td>0</td>\n",
       "      <td>27.900</td>\n",
       "      <td>0</td>\n",
       "      <td>1</td>\n",
       "      <td>southwest</td>\n",
       "      <td>16884.92400</td>\n",
       "    </tr>\n",
       "    <tr>\n",
       "      <th>1</th>\n",
       "      <td>18</td>\n",
       "      <td>1</td>\n",
       "      <td>33.770</td>\n",
       "      <td>1</td>\n",
       "      <td>0</td>\n",
       "      <td>southeast</td>\n",
       "      <td>1725.55230</td>\n",
       "    </tr>\n",
       "    <tr>\n",
       "      <th>2</th>\n",
       "      <td>28</td>\n",
       "      <td>1</td>\n",
       "      <td>33.000</td>\n",
       "      <td>3</td>\n",
       "      <td>0</td>\n",
       "      <td>southeast</td>\n",
       "      <td>4449.46200</td>\n",
       "    </tr>\n",
       "    <tr>\n",
       "      <th>3</th>\n",
       "      <td>33</td>\n",
       "      <td>1</td>\n",
       "      <td>22.705</td>\n",
       "      <td>0</td>\n",
       "      <td>0</td>\n",
       "      <td>northwest</td>\n",
       "      <td>21984.47061</td>\n",
       "    </tr>\n",
       "    <tr>\n",
       "      <th>4</th>\n",
       "      <td>32</td>\n",
       "      <td>1</td>\n",
       "      <td>28.880</td>\n",
       "      <td>0</td>\n",
       "      <td>0</td>\n",
       "      <td>northwest</td>\n",
       "      <td>3866.85520</td>\n",
       "    </tr>\n",
       "  </tbody>\n",
       "</table>\n",
       "</div>"
      ],
      "text/plain": [
       "   age  sex     bmi  children  smoker     region      charges\n",
       "0   19    0  27.900         0       1  southwest  16884.92400\n",
       "1   18    1  33.770         1       0  southeast   1725.55230\n",
       "2   28    1  33.000         3       0  southeast   4449.46200\n",
       "3   33    1  22.705         0       0  northwest  21984.47061\n",
       "4   32    1  28.880         0       0  northwest   3866.85520"
      ]
     },
     "execution_count": 95,
     "metadata": {},
     "output_type": "execute_result"
    }
   ],
   "source": [
    "data.head()"
   ]
  },
  {
   "cell_type": "code",
   "execution_count": 96,
   "id": "f0cc1cd6",
   "metadata": {},
   "outputs": [
    {
     "data": {
      "text/plain": [
       "southeast    364\n",
       "southwest    325\n",
       "northwest    325\n",
       "northeast    324\n",
       "Name: region, dtype: int64"
      ]
     },
     "execution_count": 96,
     "metadata": {},
     "output_type": "execute_result"
    }
   ],
   "source": [
    "data.region.value_counts()"
   ]
  },
  {
   "cell_type": "code",
   "execution_count": 97,
   "id": "16e02420",
   "metadata": {},
   "outputs": [],
   "source": [
    "region={'northeast':0,'northwest':1,'southwest':2,'southeast':3}\n",
    "data['region']=data['region'].map(lambda x:region[x])"
   ]
  },
  {
   "cell_type": "code",
   "execution_count": 98,
   "id": "4dc22ee6",
   "metadata": {},
   "outputs": [
    {
     "data": {
      "text/html": [
       "<div>\n",
       "<style scoped>\n",
       "    .dataframe tbody tr th:only-of-type {\n",
       "        vertical-align: middle;\n",
       "    }\n",
       "\n",
       "    .dataframe tbody tr th {\n",
       "        vertical-align: top;\n",
       "    }\n",
       "\n",
       "    .dataframe thead th {\n",
       "        text-align: right;\n",
       "    }\n",
       "</style>\n",
       "<table border=\"1\" class=\"dataframe\">\n",
       "  <thead>\n",
       "    <tr style=\"text-align: right;\">\n",
       "      <th></th>\n",
       "      <th>age</th>\n",
       "      <th>sex</th>\n",
       "      <th>bmi</th>\n",
       "      <th>children</th>\n",
       "      <th>smoker</th>\n",
       "      <th>region</th>\n",
       "      <th>charges</th>\n",
       "    </tr>\n",
       "  </thead>\n",
       "  <tbody>\n",
       "    <tr>\n",
       "      <th>0</th>\n",
       "      <td>19</td>\n",
       "      <td>0</td>\n",
       "      <td>27.900</td>\n",
       "      <td>0</td>\n",
       "      <td>1</td>\n",
       "      <td>2</td>\n",
       "      <td>16884.92400</td>\n",
       "    </tr>\n",
       "    <tr>\n",
       "      <th>1</th>\n",
       "      <td>18</td>\n",
       "      <td>1</td>\n",
       "      <td>33.770</td>\n",
       "      <td>1</td>\n",
       "      <td>0</td>\n",
       "      <td>3</td>\n",
       "      <td>1725.55230</td>\n",
       "    </tr>\n",
       "    <tr>\n",
       "      <th>2</th>\n",
       "      <td>28</td>\n",
       "      <td>1</td>\n",
       "      <td>33.000</td>\n",
       "      <td>3</td>\n",
       "      <td>0</td>\n",
       "      <td>3</td>\n",
       "      <td>4449.46200</td>\n",
       "    </tr>\n",
       "    <tr>\n",
       "      <th>3</th>\n",
       "      <td>33</td>\n",
       "      <td>1</td>\n",
       "      <td>22.705</td>\n",
       "      <td>0</td>\n",
       "      <td>0</td>\n",
       "      <td>1</td>\n",
       "      <td>21984.47061</td>\n",
       "    </tr>\n",
       "    <tr>\n",
       "      <th>4</th>\n",
       "      <td>32</td>\n",
       "      <td>1</td>\n",
       "      <td>28.880</td>\n",
       "      <td>0</td>\n",
       "      <td>0</td>\n",
       "      <td>1</td>\n",
       "      <td>3866.85520</td>\n",
       "    </tr>\n",
       "  </tbody>\n",
       "</table>\n",
       "</div>"
      ],
      "text/plain": [
       "   age  sex     bmi  children  smoker  region      charges\n",
       "0   19    0  27.900         0       1       2  16884.92400\n",
       "1   18    1  33.770         1       0       3   1725.55230\n",
       "2   28    1  33.000         3       0       3   4449.46200\n",
       "3   33    1  22.705         0       0       1  21984.47061\n",
       "4   32    1  28.880         0       0       1   3866.85520"
      ]
     },
     "execution_count": 98,
     "metadata": {},
     "output_type": "execute_result"
    }
   ],
   "source": [
    "data.head()"
   ]
  },
  {
   "cell_type": "code",
   "execution_count": 99,
   "id": "573f7155",
   "metadata": {},
   "outputs": [],
   "source": [
    "data.to_csv('preprocessing.csv')"
   ]
  },
  {
   "cell_type": "code",
   "execution_count": 100,
   "id": "ad309e04",
   "metadata": {},
   "outputs": [],
   "source": [
    "df=pd.read_csv('preprocessing.csv')\n"
   ]
  },
  {
   "cell_type": "code",
   "execution_count": 101,
   "id": "59f48a14",
   "metadata": {},
   "outputs": [
    {
     "data": {
      "text/html": [
       "<div>\n",
       "<style scoped>\n",
       "    .dataframe tbody tr th:only-of-type {\n",
       "        vertical-align: middle;\n",
       "    }\n",
       "\n",
       "    .dataframe tbody tr th {\n",
       "        vertical-align: top;\n",
       "    }\n",
       "\n",
       "    .dataframe thead th {\n",
       "        text-align: right;\n",
       "    }\n",
       "</style>\n",
       "<table border=\"1\" class=\"dataframe\">\n",
       "  <thead>\n",
       "    <tr style=\"text-align: right;\">\n",
       "      <th></th>\n",
       "      <th>Unnamed: 0</th>\n",
       "      <th>age</th>\n",
       "      <th>sex</th>\n",
       "      <th>bmi</th>\n",
       "      <th>children</th>\n",
       "      <th>smoker</th>\n",
       "      <th>region</th>\n",
       "      <th>charges</th>\n",
       "    </tr>\n",
       "  </thead>\n",
       "  <tbody>\n",
       "    <tr>\n",
       "      <th>0</th>\n",
       "      <td>0</td>\n",
       "      <td>19</td>\n",
       "      <td>0</td>\n",
       "      <td>27.900</td>\n",
       "      <td>0</td>\n",
       "      <td>1</td>\n",
       "      <td>2</td>\n",
       "      <td>16884.92400</td>\n",
       "    </tr>\n",
       "    <tr>\n",
       "      <th>1</th>\n",
       "      <td>1</td>\n",
       "      <td>18</td>\n",
       "      <td>1</td>\n",
       "      <td>33.770</td>\n",
       "      <td>1</td>\n",
       "      <td>0</td>\n",
       "      <td>3</td>\n",
       "      <td>1725.55230</td>\n",
       "    </tr>\n",
       "    <tr>\n",
       "      <th>2</th>\n",
       "      <td>2</td>\n",
       "      <td>28</td>\n",
       "      <td>1</td>\n",
       "      <td>33.000</td>\n",
       "      <td>3</td>\n",
       "      <td>0</td>\n",
       "      <td>3</td>\n",
       "      <td>4449.46200</td>\n",
       "    </tr>\n",
       "    <tr>\n",
       "      <th>3</th>\n",
       "      <td>3</td>\n",
       "      <td>33</td>\n",
       "      <td>1</td>\n",
       "      <td>22.705</td>\n",
       "      <td>0</td>\n",
       "      <td>0</td>\n",
       "      <td>1</td>\n",
       "      <td>21984.47061</td>\n",
       "    </tr>\n",
       "    <tr>\n",
       "      <th>4</th>\n",
       "      <td>4</td>\n",
       "      <td>32</td>\n",
       "      <td>1</td>\n",
       "      <td>28.880</td>\n",
       "      <td>0</td>\n",
       "      <td>0</td>\n",
       "      <td>1</td>\n",
       "      <td>3866.85520</td>\n",
       "    </tr>\n",
       "  </tbody>\n",
       "</table>\n",
       "</div>"
      ],
      "text/plain": [
       "   Unnamed: 0  age  sex     bmi  children  smoker  region      charges\n",
       "0           0   19    0  27.900         0       1       2  16884.92400\n",
       "1           1   18    1  33.770         1       0       3   1725.55230\n",
       "2           2   28    1  33.000         3       0       3   4449.46200\n",
       "3           3   33    1  22.705         0       0       1  21984.47061\n",
       "4           4   32    1  28.880         0       0       1   3866.85520"
      ]
     },
     "execution_count": 101,
     "metadata": {},
     "output_type": "execute_result"
    }
   ],
   "source": [
    "df.head()"
   ]
  },
  {
   "cell_type": "markdown",
   "id": "7d4567a1",
   "metadata": {},
   "source": [
    "# Feature Selection"
   ]
  },
  {
   "cell_type": "code",
   "execution_count": 33,
   "id": "8371f612",
   "metadata": {},
   "outputs": [
    {
     "data": {
      "text/html": [
       "<div>\n",
       "<style scoped>\n",
       "    .dataframe tbody tr th:only-of-type {\n",
       "        vertical-align: middle;\n",
       "    }\n",
       "\n",
       "    .dataframe tbody tr th {\n",
       "        vertical-align: top;\n",
       "    }\n",
       "\n",
       "    .dataframe thead th {\n",
       "        text-align: right;\n",
       "    }\n",
       "</style>\n",
       "<table border=\"1\" class=\"dataframe\">\n",
       "  <thead>\n",
       "    <tr style=\"text-align: right;\">\n",
       "      <th></th>\n",
       "      <th>Unnamed: 0</th>\n",
       "      <th>age</th>\n",
       "      <th>sex</th>\n",
       "      <th>bmi</th>\n",
       "      <th>children</th>\n",
       "      <th>smoker</th>\n",
       "      <th>region</th>\n",
       "      <th>charges</th>\n",
       "    </tr>\n",
       "  </thead>\n",
       "  <tbody>\n",
       "    <tr>\n",
       "      <th>count</th>\n",
       "      <td>1338.000000</td>\n",
       "      <td>1338.000000</td>\n",
       "      <td>1338.000000</td>\n",
       "      <td>1338.000000</td>\n",
       "      <td>1338.000000</td>\n",
       "      <td>1338.000000</td>\n",
       "      <td>1338.000000</td>\n",
       "      <td>1338.000000</td>\n",
       "    </tr>\n",
       "    <tr>\n",
       "      <th>mean</th>\n",
       "      <td>668.500000</td>\n",
       "      <td>39.207025</td>\n",
       "      <td>0.505232</td>\n",
       "      <td>30.536424</td>\n",
       "      <td>1.094918</td>\n",
       "      <td>0.204783</td>\n",
       "      <td>1.544843</td>\n",
       "      <td>13270.422265</td>\n",
       "    </tr>\n",
       "    <tr>\n",
       "      <th>std</th>\n",
       "      <td>386.391641</td>\n",
       "      <td>14.049960</td>\n",
       "      <td>0.500160</td>\n",
       "      <td>5.899998</td>\n",
       "      <td>1.205493</td>\n",
       "      <td>0.403694</td>\n",
       "      <td>1.130197</td>\n",
       "      <td>12110.011237</td>\n",
       "    </tr>\n",
       "    <tr>\n",
       "      <th>min</th>\n",
       "      <td>0.000000</td>\n",
       "      <td>18.000000</td>\n",
       "      <td>0.000000</td>\n",
       "      <td>15.960000</td>\n",
       "      <td>0.000000</td>\n",
       "      <td>0.000000</td>\n",
       "      <td>0.000000</td>\n",
       "      <td>1121.873900</td>\n",
       "    </tr>\n",
       "    <tr>\n",
       "      <th>25%</th>\n",
       "      <td>334.250000</td>\n",
       "      <td>27.000000</td>\n",
       "      <td>0.000000</td>\n",
       "      <td>26.296250</td>\n",
       "      <td>0.000000</td>\n",
       "      <td>0.000000</td>\n",
       "      <td>1.000000</td>\n",
       "      <td>4740.287150</td>\n",
       "    </tr>\n",
       "    <tr>\n",
       "      <th>50%</th>\n",
       "      <td>668.500000</td>\n",
       "      <td>39.000000</td>\n",
       "      <td>1.000000</td>\n",
       "      <td>30.400000</td>\n",
       "      <td>1.000000</td>\n",
       "      <td>0.000000</td>\n",
       "      <td>2.000000</td>\n",
       "      <td>9382.033000</td>\n",
       "    </tr>\n",
       "    <tr>\n",
       "      <th>75%</th>\n",
       "      <td>1002.750000</td>\n",
       "      <td>51.000000</td>\n",
       "      <td>1.000000</td>\n",
       "      <td>34.430000</td>\n",
       "      <td>2.000000</td>\n",
       "      <td>0.000000</td>\n",
       "      <td>3.000000</td>\n",
       "      <td>16639.912515</td>\n",
       "    </tr>\n",
       "    <tr>\n",
       "      <th>max</th>\n",
       "      <td>1337.000000</td>\n",
       "      <td>64.000000</td>\n",
       "      <td>1.000000</td>\n",
       "      <td>46.750000</td>\n",
       "      <td>5.000000</td>\n",
       "      <td>1.000000</td>\n",
       "      <td>3.000000</td>\n",
       "      <td>63770.428010</td>\n",
       "    </tr>\n",
       "  </tbody>\n",
       "</table>\n",
       "</div>"
      ],
      "text/plain": [
       "        Unnamed: 0          age          sex          bmi     children  \\\n",
       "count  1338.000000  1338.000000  1338.000000  1338.000000  1338.000000   \n",
       "mean    668.500000    39.207025     0.505232    30.536424     1.094918   \n",
       "std     386.391641    14.049960     0.500160     5.899998     1.205493   \n",
       "min       0.000000    18.000000     0.000000    15.960000     0.000000   \n",
       "25%     334.250000    27.000000     0.000000    26.296250     0.000000   \n",
       "50%     668.500000    39.000000     1.000000    30.400000     1.000000   \n",
       "75%    1002.750000    51.000000     1.000000    34.430000     2.000000   \n",
       "max    1337.000000    64.000000     1.000000    46.750000     5.000000   \n",
       "\n",
       "            smoker       region       charges  \n",
       "count  1338.000000  1338.000000   1338.000000  \n",
       "mean      0.204783     1.544843  13270.422265  \n",
       "std       0.403694     1.130197  12110.011237  \n",
       "min       0.000000     0.000000   1121.873900  \n",
       "25%       0.000000     1.000000   4740.287150  \n",
       "50%       0.000000     2.000000   9382.033000  \n",
       "75%       0.000000     3.000000  16639.912515  \n",
       "max       1.000000     3.000000  63770.428010  "
      ]
     },
     "execution_count": 33,
     "metadata": {},
     "output_type": "execute_result"
    }
   ],
   "source": [
    "df.describe()"
   ]
  },
  {
   "cell_type": "code",
   "execution_count": 102,
   "id": "37370a7d",
   "metadata": {},
   "outputs": [],
   "source": [
    "# Dropping the unwanted variables\n",
    "l1=['Unnamed: 0']\n",
    "df.drop(l1,axis=1,inplace=True)"
   ]
  },
  {
   "cell_type": "code",
   "execution_count": 103,
   "id": "0c33315b",
   "metadata": {},
   "outputs": [
    {
     "data": {
      "text/html": [
       "<div>\n",
       "<style scoped>\n",
       "    .dataframe tbody tr th:only-of-type {\n",
       "        vertical-align: middle;\n",
       "    }\n",
       "\n",
       "    .dataframe tbody tr th {\n",
       "        vertical-align: top;\n",
       "    }\n",
       "\n",
       "    .dataframe thead th {\n",
       "        text-align: right;\n",
       "    }\n",
       "</style>\n",
       "<table border=\"1\" class=\"dataframe\">\n",
       "  <thead>\n",
       "    <tr style=\"text-align: right;\">\n",
       "      <th></th>\n",
       "      <th>age</th>\n",
       "      <th>sex</th>\n",
       "      <th>bmi</th>\n",
       "      <th>children</th>\n",
       "      <th>smoker</th>\n",
       "      <th>region</th>\n",
       "      <th>charges</th>\n",
       "    </tr>\n",
       "  </thead>\n",
       "  <tbody>\n",
       "    <tr>\n",
       "      <th>0</th>\n",
       "      <td>19</td>\n",
       "      <td>0</td>\n",
       "      <td>27.900</td>\n",
       "      <td>0</td>\n",
       "      <td>1</td>\n",
       "      <td>2</td>\n",
       "      <td>16884.92400</td>\n",
       "    </tr>\n",
       "    <tr>\n",
       "      <th>1</th>\n",
       "      <td>18</td>\n",
       "      <td>1</td>\n",
       "      <td>33.770</td>\n",
       "      <td>1</td>\n",
       "      <td>0</td>\n",
       "      <td>3</td>\n",
       "      <td>1725.55230</td>\n",
       "    </tr>\n",
       "    <tr>\n",
       "      <th>2</th>\n",
       "      <td>28</td>\n",
       "      <td>1</td>\n",
       "      <td>33.000</td>\n",
       "      <td>3</td>\n",
       "      <td>0</td>\n",
       "      <td>3</td>\n",
       "      <td>4449.46200</td>\n",
       "    </tr>\n",
       "    <tr>\n",
       "      <th>3</th>\n",
       "      <td>33</td>\n",
       "      <td>1</td>\n",
       "      <td>22.705</td>\n",
       "      <td>0</td>\n",
       "      <td>0</td>\n",
       "      <td>1</td>\n",
       "      <td>21984.47061</td>\n",
       "    </tr>\n",
       "    <tr>\n",
       "      <th>4</th>\n",
       "      <td>32</td>\n",
       "      <td>1</td>\n",
       "      <td>28.880</td>\n",
       "      <td>0</td>\n",
       "      <td>0</td>\n",
       "      <td>1</td>\n",
       "      <td>3866.85520</td>\n",
       "    </tr>\n",
       "  </tbody>\n",
       "</table>\n",
       "</div>"
      ],
      "text/plain": [
       "   age  sex     bmi  children  smoker  region      charges\n",
       "0   19    0  27.900         0       1       2  16884.92400\n",
       "1   18    1  33.770         1       0       3   1725.55230\n",
       "2   28    1  33.000         3       0       3   4449.46200\n",
       "3   33    1  22.705         0       0       1  21984.47061\n",
       "4   32    1  28.880         0       0       1   3866.85520"
      ]
     },
     "execution_count": 103,
     "metadata": {},
     "output_type": "execute_result"
    }
   ],
   "source": [
    "df.head()"
   ]
  },
  {
   "cell_type": "markdown",
   "id": "67145c54",
   "metadata": {},
   "source": [
    "# Checking the correlation within the independent variables"
   ]
  },
  {
   "cell_type": "code",
   "execution_count": 104,
   "id": "d8611a71",
   "metadata": {},
   "outputs": [
    {
     "data": {
      "image/png": "[encoded data removed]",
      "text/plain": [
       "<Figure size 640x480 with 2 Axes>"
      ]
     },
     "metadata": {},
     "output_type": "display_data"
    }
   ],
   "source": [
    "sns.heatmap(data.drop('charges',axis=1).corr(),annot=True)\n",
    "plt.show()"
   ]
  },
  {
   "cell_type": "code",
   "execution_count": null,
   "id": "f0113d4b",
   "metadata": {},
   "outputs": [],
   "source": [
    "No  correlation is there."
   ]
  },
  {
   "cell_type": "markdown",
   "id": "a981666a",
   "metadata": {},
   "source": [
    "# Scaling the Data"
   ]
  },
  {
   "cell_type": "code",
   "execution_count": 105,
   "id": "5a455e5a",
   "metadata": {},
   "outputs": [],
   "source": [
    "from sklearn.preprocessing import StandardScaler\n",
    "sc=StandardScaler()\n",
    "d1=['charges']\n",
    "df1=sc.fit_transform(df.drop(d1,axis=1))\n"
   ]
  },
  {
   "cell_type": "code",
   "execution_count": 106,
   "id": "4ad747d3",
   "metadata": {},
   "outputs": [
    {
     "data": {
      "text/plain": [
       "array([[-1.43876426, -1.0105187 , -0.44701868, -0.90861367,  1.97058663,\n",
       "         0.40287427],\n",
       "       [-1.50996545,  0.98959079,  0.54826883, -0.07876719, -0.5074631 ,\n",
       "         1.28800691],\n",
       "       [-0.79795355,  0.98959079,  0.41771153,  1.58092576, -0.5074631 ,\n",
       "         1.28800691],\n",
       "       ...,\n",
       "       [-1.50996545, -1.0105187 ,  1.07049806, -0.90861367, -0.5074631 ,\n",
       "         1.28800691],\n",
       "       [-1.29636188, -1.0105187 , -0.80308406, -0.90861367, -0.5074631 ,\n",
       "         0.40287427],\n",
       "       [ 1.55168573, -1.0105187 , -0.2486394 , -0.90861367,  1.97058663,\n",
       "        -0.48225837]])"
      ]
     },
     "execution_count": 106,
     "metadata": {},
     "output_type": "execute_result"
    }
   ],
   "source": [
    "df1"
   ]
  },
  {
   "cell_type": "code",
   "execution_count": 107,
   "id": "dddef8b2",
   "metadata": {},
   "outputs": [],
   "source": [
    "con_df=df[['charges']]"
   ]
  },
  {
   "cell_type": "code",
   "execution_count": 108,
   "id": "87a2651a",
   "metadata": {},
   "outputs": [],
   "source": [
    "df2=pd.DataFrame(df1,columns=['age', 'sex', 'bmi', 'children', 'smoker', 'region'])"
   ]
  },
  {
   "cell_type": "code",
   "execution_count": 109,
   "id": "39ee7cac",
   "metadata": {},
   "outputs": [],
   "source": [
    "final_df=pd.concat([df2,con_df],axis=1)"
   ]
  },
  {
   "cell_type": "code",
   "execution_count": 110,
   "id": "2c71c9aa",
   "metadata": {},
   "outputs": [
    {
     "data": {
      "text/html": [
       "<div>\n",
       "<style scoped>\n",
       "    .dataframe tbody tr th:only-of-type {\n",
       "        vertical-align: middle;\n",
       "    }\n",
       "\n",
       "    .dataframe tbody tr th {\n",
       "        vertical-align: top;\n",
       "    }\n",
       "\n",
       "    .dataframe thead th {\n",
       "        text-align: right;\n",
       "    }\n",
       "</style>\n",
       "<table border=\"1\" class=\"dataframe\">\n",
       "  <thead>\n",
       "    <tr style=\"text-align: right;\">\n",
       "      <th></th>\n",
       "      <th>age</th>\n",
       "      <th>sex</th>\n",
       "      <th>bmi</th>\n",
       "      <th>children</th>\n",
       "      <th>smoker</th>\n",
       "      <th>region</th>\n",
       "      <th>charges</th>\n",
       "    </tr>\n",
       "  </thead>\n",
       "  <tbody>\n",
       "    <tr>\n",
       "      <th>0</th>\n",
       "      <td>-1.438764</td>\n",
       "      <td>-1.010519</td>\n",
       "      <td>-0.447019</td>\n",
       "      <td>-0.908614</td>\n",
       "      <td>1.970587</td>\n",
       "      <td>0.402874</td>\n",
       "      <td>16884.92400</td>\n",
       "    </tr>\n",
       "    <tr>\n",
       "      <th>1</th>\n",
       "      <td>-1.509965</td>\n",
       "      <td>0.989591</td>\n",
       "      <td>0.548269</td>\n",
       "      <td>-0.078767</td>\n",
       "      <td>-0.507463</td>\n",
       "      <td>1.288007</td>\n",
       "      <td>1725.55230</td>\n",
       "    </tr>\n",
       "    <tr>\n",
       "      <th>2</th>\n",
       "      <td>-0.797954</td>\n",
       "      <td>0.989591</td>\n",
       "      <td>0.417712</td>\n",
       "      <td>1.580926</td>\n",
       "      <td>-0.507463</td>\n",
       "      <td>1.288007</td>\n",
       "      <td>4449.46200</td>\n",
       "    </tr>\n",
       "    <tr>\n",
       "      <th>3</th>\n",
       "      <td>-0.441948</td>\n",
       "      <td>0.989591</td>\n",
       "      <td>-1.327857</td>\n",
       "      <td>-0.908614</td>\n",
       "      <td>-0.507463</td>\n",
       "      <td>-0.482258</td>\n",
       "      <td>21984.47061</td>\n",
       "    </tr>\n",
       "    <tr>\n",
       "      <th>4</th>\n",
       "      <td>-0.513149</td>\n",
       "      <td>0.989591</td>\n",
       "      <td>-0.280855</td>\n",
       "      <td>-0.908614</td>\n",
       "      <td>-0.507463</td>\n",
       "      <td>-0.482258</td>\n",
       "      <td>3866.85520</td>\n",
       "    </tr>\n",
       "    <tr>\n",
       "      <th>...</th>\n",
       "      <td>...</td>\n",
       "      <td>...</td>\n",
       "      <td>...</td>\n",
       "      <td>...</td>\n",
       "      <td>...</td>\n",
       "      <td>...</td>\n",
       "      <td>...</td>\n",
       "    </tr>\n",
       "    <tr>\n",
       "      <th>1333</th>\n",
       "      <td>0.768473</td>\n",
       "      <td>0.989591</td>\n",
       "      <td>0.073515</td>\n",
       "      <td>1.580926</td>\n",
       "      <td>-0.507463</td>\n",
       "      <td>-0.482258</td>\n",
       "      <td>10600.54830</td>\n",
       "    </tr>\n",
       "    <tr>\n",
       "      <th>1334</th>\n",
       "      <td>-1.509965</td>\n",
       "      <td>-1.010519</td>\n",
       "      <td>0.234592</td>\n",
       "      <td>-0.908614</td>\n",
       "      <td>-0.507463</td>\n",
       "      <td>-1.367391</td>\n",
       "      <td>2205.98080</td>\n",
       "    </tr>\n",
       "    <tr>\n",
       "      <th>1335</th>\n",
       "      <td>-1.509965</td>\n",
       "      <td>-1.010519</td>\n",
       "      <td>1.070498</td>\n",
       "      <td>-0.908614</td>\n",
       "      <td>-0.507463</td>\n",
       "      <td>1.288007</td>\n",
       "      <td>1629.83350</td>\n",
       "    </tr>\n",
       "    <tr>\n",
       "      <th>1336</th>\n",
       "      <td>-1.296362</td>\n",
       "      <td>-1.010519</td>\n",
       "      <td>-0.803084</td>\n",
       "      <td>-0.908614</td>\n",
       "      <td>-0.507463</td>\n",
       "      <td>0.402874</td>\n",
       "      <td>2007.94500</td>\n",
       "    </tr>\n",
       "    <tr>\n",
       "      <th>1337</th>\n",
       "      <td>1.551686</td>\n",
       "      <td>-1.010519</td>\n",
       "      <td>-0.248639</td>\n",
       "      <td>-0.908614</td>\n",
       "      <td>1.970587</td>\n",
       "      <td>-0.482258</td>\n",
       "      <td>29141.36030</td>\n",
       "    </tr>\n",
       "  </tbody>\n",
       "</table>\n",
       "<p>1338 rows × 7 columns</p>\n",
       "</div>"
      ],
      "text/plain": [
       "           age       sex       bmi  children    smoker    region      charges\n",
       "0    -1.438764 -1.010519 -0.447019 -0.908614  1.970587  0.402874  16884.92400\n",
       "1    -1.509965  0.989591  0.548269 -0.078767 -0.507463  1.288007   1725.55230\n",
       "2    -0.797954  0.989591  0.417712  1.580926 -0.507463  1.288007   4449.46200\n",
       "3    -0.441948  0.989591 -1.327857 -0.908614 -0.507463 -0.482258  21984.47061\n",
       "4    -0.513149  0.989591 -0.280855 -0.908614 -0.507463 -0.482258   3866.85520\n",
       "...        ...       ...       ...       ...       ...       ...          ...\n",
       "1333  0.768473  0.989591  0.073515  1.580926 -0.507463 -0.482258  10600.54830\n",
       "1334 -1.509965 -1.010519  0.234592 -0.908614 -0.507463 -1.367391   2205.98080\n",
       "1335 -1.509965 -1.010519  1.070498 -0.908614 -0.507463  1.288007   1629.83350\n",
       "1336 -1.296362 -1.010519 -0.803084 -0.908614 -0.507463  0.402874   2007.94500\n",
       "1337  1.551686 -1.010519 -0.248639 -0.908614  1.970587 -0.482258  29141.36030\n",
       "\n",
       "[1338 rows x 7 columns]"
      ]
     },
     "execution_count": 110,
     "metadata": {},
     "output_type": "execute_result"
    }
   ],
   "source": [
    "final_df"
   ]
  },
  {
   "cell_type": "code",
   "execution_count": 111,
   "id": "16ca3a5c",
   "metadata": {},
   "outputs": [
    {
     "data": {
      "text/plain": [
       "Index(['age', 'sex', 'bmi', 'children', 'smoker', 'region', 'charges'], dtype='object')"
      ]
     },
     "execution_count": 111,
     "metadata": {},
     "output_type": "execute_result"
    }
   ],
   "source": [
    "df.columns"
   ]
  },
  {
   "cell_type": "markdown",
   "id": "f9060013",
   "metadata": {},
   "source": [
    "# Model Creation "
   ]
  },
  {
   "cell_type": "code",
   "execution_count": 112,
   "id": "cdfadc75",
   "metadata": {},
   "outputs": [],
   "source": [
    "\n",
    "### Split X and Y\n",
    "X = final_df.drop(columns = ['charges']) # Independent variables\n",
    "y = final_df['charges'] # Dependent or target varaible."
   ]
  },
  {
   "cell_type": "code",
   "execution_count": 113,
   "id": "bf4fb9d5",
   "metadata": {},
   "outputs": [
    {
     "data": {
      "text/html": [
       "<div>\n",
       "<style scoped>\n",
       "    .dataframe tbody tr th:only-of-type {\n",
       "        vertical-align: middle;\n",
       "    }\n",
       "\n",
       "    .dataframe tbody tr th {\n",
       "        vertical-align: top;\n",
       "    }\n",
       "\n",
       "    .dataframe thead th {\n",
       "        text-align: right;\n",
       "    }\n",
       "</style>\n",
       "<table border=\"1\" class=\"dataframe\">\n",
       "  <thead>\n",
       "    <tr style=\"text-align: right;\">\n",
       "      <th></th>\n",
       "      <th>age</th>\n",
       "      <th>sex</th>\n",
       "      <th>bmi</th>\n",
       "      <th>children</th>\n",
       "      <th>smoker</th>\n",
       "      <th>region</th>\n",
       "    </tr>\n",
       "  </thead>\n",
       "  <tbody>\n",
       "    <tr>\n",
       "      <th>0</th>\n",
       "      <td>-1.438764</td>\n",
       "      <td>-1.010519</td>\n",
       "      <td>-0.447019</td>\n",
       "      <td>-0.908614</td>\n",
       "      <td>1.970587</td>\n",
       "      <td>0.402874</td>\n",
       "    </tr>\n",
       "    <tr>\n",
       "      <th>1</th>\n",
       "      <td>-1.509965</td>\n",
       "      <td>0.989591</td>\n",
       "      <td>0.548269</td>\n",
       "      <td>-0.078767</td>\n",
       "      <td>-0.507463</td>\n",
       "      <td>1.288007</td>\n",
       "    </tr>\n",
       "    <tr>\n",
       "      <th>2</th>\n",
       "      <td>-0.797954</td>\n",
       "      <td>0.989591</td>\n",
       "      <td>0.417712</td>\n",
       "      <td>1.580926</td>\n",
       "      <td>-0.507463</td>\n",
       "      <td>1.288007</td>\n",
       "    </tr>\n",
       "    <tr>\n",
       "      <th>3</th>\n",
       "      <td>-0.441948</td>\n",
       "      <td>0.989591</td>\n",
       "      <td>-1.327857</td>\n",
       "      <td>-0.908614</td>\n",
       "      <td>-0.507463</td>\n",
       "      <td>-0.482258</td>\n",
       "    </tr>\n",
       "    <tr>\n",
       "      <th>4</th>\n",
       "      <td>-0.513149</td>\n",
       "      <td>0.989591</td>\n",
       "      <td>-0.280855</td>\n",
       "      <td>-0.908614</td>\n",
       "      <td>-0.507463</td>\n",
       "      <td>-0.482258</td>\n",
       "    </tr>\n",
       "    <tr>\n",
       "      <th>...</th>\n",
       "      <td>...</td>\n",
       "      <td>...</td>\n",
       "      <td>...</td>\n",
       "      <td>...</td>\n",
       "      <td>...</td>\n",
       "      <td>...</td>\n",
       "    </tr>\n",
       "    <tr>\n",
       "      <th>1333</th>\n",
       "      <td>0.768473</td>\n",
       "      <td>0.989591</td>\n",
       "      <td>0.073515</td>\n",
       "      <td>1.580926</td>\n",
       "      <td>-0.507463</td>\n",
       "      <td>-0.482258</td>\n",
       "    </tr>\n",
       "    <tr>\n",
       "      <th>1334</th>\n",
       "      <td>-1.509965</td>\n",
       "      <td>-1.010519</td>\n",
       "      <td>0.234592</td>\n",
       "      <td>-0.908614</td>\n",
       "      <td>-0.507463</td>\n",
       "      <td>-1.367391</td>\n",
       "    </tr>\n",
       "    <tr>\n",
       "      <th>1335</th>\n",
       "      <td>-1.509965</td>\n",
       "      <td>-1.010519</td>\n",
       "      <td>1.070498</td>\n",
       "      <td>-0.908614</td>\n",
       "      <td>-0.507463</td>\n",
       "      <td>1.288007</td>\n",
       "    </tr>\n",
       "    <tr>\n",
       "      <th>1336</th>\n",
       "      <td>-1.296362</td>\n",
       "      <td>-1.010519</td>\n",
       "      <td>-0.803084</td>\n",
       "      <td>-0.908614</td>\n",
       "      <td>-0.507463</td>\n",
       "      <td>0.402874</td>\n",
       "    </tr>\n",
       "    <tr>\n",
       "      <th>1337</th>\n",
       "      <td>1.551686</td>\n",
       "      <td>-1.010519</td>\n",
       "      <td>-0.248639</td>\n",
       "      <td>-0.908614</td>\n",
       "      <td>1.970587</td>\n",
       "      <td>-0.482258</td>\n",
       "    </tr>\n",
       "  </tbody>\n",
       "</table>\n",
       "<p>1338 rows × 6 columns</p>\n",
       "</div>"
      ],
      "text/plain": [
       "           age       sex       bmi  children    smoker    region\n",
       "0    -1.438764 -1.010519 -0.447019 -0.908614  1.970587  0.402874\n",
       "1    -1.509965  0.989591  0.548269 -0.078767 -0.507463  1.288007\n",
       "2    -0.797954  0.989591  0.417712  1.580926 -0.507463  1.288007\n",
       "3    -0.441948  0.989591 -1.327857 -0.908614 -0.507463 -0.482258\n",
       "4    -0.513149  0.989591 -0.280855 -0.908614 -0.507463 -0.482258\n",
       "...        ...       ...       ...       ...       ...       ...\n",
       "1333  0.768473  0.989591  0.073515  1.580926 -0.507463 -0.482258\n",
       "1334 -1.509965 -1.010519  0.234592 -0.908614 -0.507463 -1.367391\n",
       "1335 -1.509965 -1.010519  1.070498 -0.908614 -0.507463  1.288007\n",
       "1336 -1.296362 -1.010519 -0.803084 -0.908614 -0.507463  0.402874\n",
       "1337  1.551686 -1.010519 -0.248639 -0.908614  1.970587 -0.482258\n",
       "\n",
       "[1338 rows x 6 columns]"
      ]
     },
     "execution_count": 113,
     "metadata": {},
     "output_type": "execute_result"
    }
   ],
   "source": [
    "X"
   ]
  },
  {
   "cell_type": "code",
   "execution_count": 114,
   "id": "4586a886",
   "metadata": {},
   "outputs": [
    {
     "data": {
      "text/plain": [
       "0       16884.92400\n",
       "1        1725.55230\n",
       "2        4449.46200\n",
       "3       21984.47061\n",
       "4        3866.85520\n",
       "           ...     \n",
       "1333    10600.54830\n",
       "1334     2205.98080\n",
       "1335     1629.83350\n",
       "1336     2007.94500\n",
       "1337    29141.36030\n",
       "Name: charges, Length: 1338, dtype: float64"
      ]
     },
     "execution_count": 114,
     "metadata": {},
     "output_type": "execute_result"
    }
   ],
   "source": [
    "y"
   ]
  },
  {
   "cell_type": "code",
   "execution_count": 115,
   "id": "e8ce086c",
   "metadata": {},
   "outputs": [],
   "source": [
    "# Step2 Training and testing data creation\n",
    "from sklearn.model_selection import train_test_split\n",
    "X_train,X_test,y_train,y_test=train_test_split(X,y,test_size=0.2,random_state=42)"
   ]
  },
  {
   "cell_type": "code",
   "execution_count": 116,
   "id": "38b621b9",
   "metadata": {},
   "outputs": [
    {
     "data": {
      "text/plain": [
       "764      9095.06825\n",
       "887      5272.17580\n",
       "890     29330.98315\n",
       "1293     9301.89355\n",
       "259     33750.29180\n",
       "           ...     \n",
       "109     47055.53210\n",
       "575     12222.89830\n",
       "535      6067.12675\n",
       "543     63770.42801\n",
       "846      9872.70100\n",
       "Name: charges, Length: 268, dtype: float64"
      ]
     },
     "execution_count": 116,
     "metadata": {},
     "output_type": "execute_result"
    }
   ],
   "source": [
    "y_test"
   ]
  },
  {
   "cell_type": "markdown",
   "id": "8d2c7be7",
   "metadata": {},
   "source": [
    "# Linear Regression"
   ]
  },
  {
   "cell_type": "code",
   "execution_count": 117,
   "id": "65e2ba9d",
   "metadata": {},
   "outputs": [],
   "source": [
    "# Step 3 Creating model\n",
    "from sklearn.linear_model import LinearRegression\n",
    "LR=LinearRegression()  ## object creation\n",
    "LR.fit(X_train,y_train)\n",
    "# training of linear regression\n",
    "y_predict=LR.predict(X_test)"
   ]
  },
  {
   "cell_type": "code",
   "execution_count": 118,
   "id": "16913c63",
   "metadata": {},
   "outputs": [
    {
     "data": {
      "text/plain": [
       "764      9095.06825\n",
       "887      5272.17580\n",
       "890     29330.98315\n",
       "1293     9301.89355\n",
       "259     33750.29180\n",
       "           ...     \n",
       "109     47055.53210\n",
       "575     12222.89830\n",
       "535      6067.12675\n",
       "543     63770.42801\n",
       "846      9872.70100\n",
       "Name: charges, Length: 268, dtype: float64"
      ]
     },
     "execution_count": 118,
     "metadata": {},
     "output_type": "execute_result"
    }
   ],
   "source": [
    "y_test"
   ]
  },
  {
   "cell_type": "code",
   "execution_count": 59,
   "id": "8f167842",
   "metadata": {},
   "outputs": [
    {
     "data": {
      "text/plain": [
       "array([ 8748.12287968,  7111.50519163, 36805.30222337,  9429.45676521,\n",
       "       27124.26019463, 11397.87352861,   101.90598698, 17097.65442164,\n",
       "         770.1786047 , 11241.96838908, 28290.89247897,  9455.63221029,\n",
       "        5138.85286221, 38530.40118285, 40350.15308353, 37158.25085992,\n",
       "       15315.21081682, 35890.63476548,  8936.27873017, 31438.77705705,\n",
       "        4017.20638711, 10456.64564167,  2708.78782801,  7232.69362437,\n",
       "       11264.52900069, 12879.93681917, 14824.84933907,  6196.60826777,\n",
       "        9765.28430725,  2137.00406363,  9320.89402209, 13119.04449534,\n",
       "        4552.86448641,  3252.12024045,  4772.27391849, 13140.87911433,\n",
       "        2185.49019258,  9050.52787766, 33177.02377767, 32602.32100725,\n",
       "        4122.47347832,  4453.40800549, 14467.94417236, 11400.28654502,\n",
       "        8795.92429787, 12317.5536789 ,  5393.69593038,  3295.30196718,\n",
       "       35498.00946926,  9222.37642626, 15793.75427415,  2280.24941215,\n",
       "       12598.90816565,  1382.84863363, 13371.37749182, 12519.2734467 ,\n",
       "        4213.27133971, 32318.11533302, 13603.486732  , 12826.8135188 ,\n",
       "       14419.5585873 , 10616.04157927, 16716.18541978,  7690.10075444,\n",
       "       11727.82504689,  4033.09580921, 26869.32271671, 10747.56044715,\n",
       "        2051.89625445,  6707.13990377, 10790.34475585, 11533.99066052,\n",
       "       10905.77852881,  9118.21542496, 12010.61996981,  6628.19094192,\n",
       "        7227.03593919, 10670.55257629,  6511.00318514,  8903.46379658,\n",
       "        3780.97432915, 36481.19260543,  6620.67499998, 30860.06731074,\n",
       "       27320.0016298 , 35236.43644976,  6961.52141648, 12975.885411  ,\n",
       "        9969.9047426 , 14849.36112328, 17680.76449651, 34974.26018894,\n",
       "       32831.66950076,  6078.17936487, 32030.99742227,  9803.49501235,\n",
       "       29353.44504969,  3633.21791998, 28219.65658863,  5585.35815403,\n",
       "        5421.37068474,  2145.52641011, 11608.56762407, 15438.44133256,\n",
       "       11494.27054306,  4350.67180606,  9809.99091013, 31451.55898989,\n",
       "        -270.29308912, 32540.85598639,  3667.64554045, 10418.71341301,\n",
       "       14217.61669322, 31567.52763089, 11344.13837119,  4304.3784721 ,\n",
       "       12993.07620691, 31982.57177219,  8029.65107273,  3291.97820343,\n",
       "        8388.08335018, 10737.66048508, 15226.48908061,  5701.65478873,\n",
       "        3707.56627608, 10302.24676218, 10865.08784727, 11037.32519816,\n",
       "       14380.91326968,  7594.65751214,  5254.41451091,  9215.87984045,\n",
       "        9315.52381747, 12570.51504672,  8641.51945474, 15726.82554537,\n",
       "        8454.88916844, 32096.12812199, 35978.99931918, 31512.62568627,\n",
       "        5998.16484774, 12551.87898716,  6056.49412974, 14698.95030445,\n",
       "        2363.26284694, 33155.78163091,  6297.90132685,  5283.13871666,\n",
       "       14455.24781567,  7249.77951852, 38786.80386866,  3114.61884129,\n",
       "        6043.46141063, 31694.26923597, 11784.17225515,  8508.01246881,\n",
       "       14752.46453041,  9660.60242925, 27068.50416321, 33435.02149991,\n",
       "       14431.88853895,  1665.68127986, 13337.24340535,  2087.05375581,\n",
       "        5797.87990421, 11603.70310997, 40166.61074244, 36534.6518793 ,\n",
       "       33951.15297701,  4176.0047953 ,  7529.68140194,  8951.67707172,\n",
       "       12619.71379503,  4830.3049503 ,  2272.93438748, 31936.6109603 ,\n",
       "       25401.70060277, 17564.31957222, 26222.32651764, 10048.92415309,\n",
       "       37077.29218208,  -770.65368549,  6658.66775543,  8100.09196781,\n",
       "        4161.94943914,  5225.73489856,  5858.87367693,  4530.40441869,\n",
       "       15324.9655824 , 11154.05575735,  7360.46284301,  2431.88870259,\n",
       "        1328.61604311, 32355.82051809, 16467.25333528, 11945.87699543,\n",
       "        1227.09265953, 12363.82809764,  1419.76111723,  8895.60254677,\n",
       "        1789.53495055, 33937.9670337 , 11037.25000273,  2652.74271028,\n",
       "       25514.06965568, 26143.98711904,  9437.72304981,  1680.05590741,\n",
       "       13358.34477271,  1218.94354025, 10501.19460327, 10301.92650366,\n",
       "       10859.23893695, 26739.35703323,  6756.43781991,  5059.88589159,\n",
       "        5692.27325034, 13013.67893561, 10847.19846053,  8312.85785261,\n",
       "        5302.52810069, 12560.2170378 , 14063.14513051, 35823.53900238,\n",
       "        4306.61133211, 28891.16675386,  -802.07322444,  3000.16350092,\n",
       "       10947.74782861, 15718.89523426,  5286.58949763,  6693.80159478,\n",
       "        4007.33961997, 31570.38547003,  7050.56317076, 12441.95638605,\n",
       "        5723.61270717,  9900.40082775, 36357.78353905,  4448.33025791,\n",
       "        9318.85421086, 31560.61689433,  5886.13475015,  4489.40013029,\n",
       "        1077.12108874,  4957.69315392,  4781.67501219,  6838.26555228,\n",
       "       18777.33857596, -1655.62339173,  2649.66796782, 11065.55426459,\n",
       "        3344.55506023,  9935.44879185,  3824.88679529,  5054.20735571,\n",
       "       12653.59061406,  6386.51810208,  8022.8336996 ,  7476.44162428,\n",
       "        8911.46634332, 10328.89252693, 27737.1327466 , 39046.37714195,\n",
       "       11721.45159003,  7585.27406888, 35050.30373644, 12621.9881074 ])"
      ]
     },
     "execution_count": 59,
     "metadata": {},
     "output_type": "execute_result"
    }
   ],
   "source": [
    "y_predict"
   ]
  },
  {
   "cell_type": "code",
   "execution_count": 119,
   "id": "bc2d519f",
   "metadata": {},
   "outputs": [],
   "source": [
    "# Step4 Model Evalution\n",
    "from sklearn.metrics import r2_score,mean_squared_error,mean_absolute_error\n",
    "r2score=r2_score(y_test,y_predict)"
   ]
  },
  {
   "cell_type": "code",
   "execution_count": 120,
   "id": "b9658e9e",
   "metadata": {},
   "outputs": [
    {
     "data": {
      "text/plain": [
       "0.7721002640891022"
      ]
     },
     "execution_count": 120,
     "metadata": {},
     "output_type": "execute_result"
    }
   ],
   "source": [
    "r2score"
   ]
  },
  {
   "cell_type": "code",
   "execution_count": 121,
   "id": "e910a73e",
   "metadata": {},
   "outputs": [],
   "source": [
    "adjusted_r2 = 1-(1-0.77)*(268-6)/(268-6-1)"
   ]
  },
  {
   "cell_type": "code",
   "execution_count": 122,
   "id": "5cc8b768",
   "metadata": {},
   "outputs": [
    {
     "data": {
      "text/plain": [
       "0.7691187739463602"
      ]
     },
     "execution_count": 122,
     "metadata": {},
     "output_type": "execute_result"
    }
   ],
   "source": [
    "adjusted_r2"
   ]
  },
  {
   "cell_type": "code",
   "execution_count": 123,
   "id": "49a323b8",
   "metadata": {},
   "outputs": [
    {
     "name": "stdout",
     "output_type": "stream",
     "text": [
      "35381144.90747706\n",
      "5948.205183706851\n"
     ]
    }
   ],
   "source": [
    "import math\n",
    "print(mean_squared_error(y_test,y_predict))\n",
    "print(math.sqrt(mean_squared_error(y_test,y_predict)))\n",
    "# root mean squared error"
   ]
  },
  {
   "cell_type": "code",
   "execution_count": 124,
   "id": "51c7c559",
   "metadata": {},
   "outputs": [
    {
     "data": {
      "text/plain": [
       "(268, 6)"
      ]
     },
     "execution_count": 124,
     "metadata": {},
     "output_type": "execute_result"
    }
   ],
   "source": [
    "X_test.shape"
   ]
  },
  {
   "cell_type": "code",
   "execution_count": 125,
   "id": "6430afba",
   "metadata": {},
   "outputs": [
    {
     "data": {
      "text/plain": [
       "13307.64219307494"
      ]
     },
     "execution_count": 125,
     "metadata": {},
     "output_type": "execute_result"
    }
   ],
   "source": [
    "LR.intercept_"
   ]
  },
  {
   "cell_type": "code",
   "execution_count": 126,
   "id": "3bcd35da",
   "metadata": {},
   "outputs": [
    {
     "data": {
      "text/plain": [
       "array([3589.10878624,   15.28050784, 2094.49798267,  502.13789535,\n",
       "       9544.51001478, -252.95700452])"
      ]
     },
     "execution_count": 126,
     "metadata": {},
     "output_type": "execute_result"
    }
   ],
   "source": [
    "LR.coef_"
   ]
  },
  {
   "cell_type": "markdown",
   "id": "ea7c1b38",
   "metadata": {},
   "source": [
    "# KNN Model creation"
   ]
  },
  {
   "cell_type": "code",
   "execution_count": 127,
   "id": "ad90355b",
   "metadata": {},
   "outputs": [
    {
     "name": "stdout",
     "output_type": "stream",
     "text": [
      "RMSE value for k=  1 is: 7193.234602678469\n",
      "RMSE value for k=  2 is: 6046.493512238088\n",
      "RMSE value for k=  3 is: 5554.183560910836\n",
      "RMSE value for k=  4 is: 5481.943487722548\n",
      "RMSE value for k=  5 is: 5262.82522239489\n",
      "RMSE value for k=  6 is: 5122.203915046251\n",
      "RMSE value for k=  7 is: 5064.427253975845\n",
      "RMSE value for k=  8 is: 5154.827210121837\n",
      "RMSE value for k=  9 is: 5202.312538621616\n",
      "RMSE value for k=  10 is: 5271.079312219658\n",
      "RMSE value for k=  11 is: 5283.323928437942\n",
      "RMSE value for k=  12 is: 5268.692348344818\n",
      "RMSE value for k=  13 is: 5249.467889771057\n",
      "RMSE value for k=  14 is: 5257.490215701361\n",
      "RMSE value for k=  15 is: 5252.574952765085\n",
      "RMSE value for k=  16 is: 5270.005328327855\n",
      "RMSE value for k=  17 is: 5281.025417742553\n",
      "RMSE value for k=  18 is: 5335.461441848708\n",
      "RMSE value for k=  19 is: 5383.621813064493\n"
     ]
    }
   ],
   "source": [
    "from sklearn.neighbors import KNeighborsRegressor\n",
    "from sklearn.metrics import mean_squared_error\n",
    "\n",
    "rmse_val = [] #create list to store rmse values for different k\n",
    "for K in range(1,20):\n",
    "    \n",
    "    model = KNeighborsRegressor(n_neighbors = K)\n",
    "\n",
    "    model.fit(X_train, y_train)  #fit the model\n",
    "    pred=model.predict(X_test) #make prediction on test set\n",
    "    error = np.sqrt(mean_squared_error(y_test,pred)) #calculate rmse\n",
    "    rmse_val.append(error) #store rmse values\n",
    "    print('RMSE value for k= ' , K , 'is:', error)"
   ]
  },
  {
   "cell_type": "code",
   "execution_count": 128,
   "id": "6b6d0bd0",
   "metadata": {},
   "outputs": [
    {
     "data": {
      "text/plain": [
       "KNeighborsRegressor(n_neighbors=8)"
      ]
     },
     "execution_count": 128,
     "metadata": {},
     "output_type": "execute_result"
    }
   ],
   "source": [
    "# let's fit the data into KNN model and see how well it performs:\n",
    "knn1 =KNeighborsRegressor(n_neighbors=8)\n",
    "knn1.fit(X_train,y_train)"
   ]
  },
  {
   "cell_type": "code",
   "execution_count": 129,
   "id": "fefae69e",
   "metadata": {},
   "outputs": [],
   "source": [
    "# predict\n",
    "y_pred=knn1.predict(X_test)"
   ]
  },
  {
   "cell_type": "code",
   "execution_count": 130,
   "id": "77ba9623",
   "metadata": {},
   "outputs": [],
   "source": [
    "from sklearn.metrics import r2_score,mean_squared_error,mean_absolute_error\n",
    "r2score=r2_score(y_test,y_predict)"
   ]
  },
  {
   "cell_type": "code",
   "execution_count": 131,
   "id": "a4b5094f",
   "metadata": {},
   "outputs": [
    {
     "data": {
      "text/plain": [
       "0.7721002640891022"
      ]
     },
     "execution_count": 131,
     "metadata": {},
     "output_type": "execute_result"
    }
   ],
   "source": [
    "r2score"
   ]
  },
  {
   "cell_type": "code",
   "execution_count": 132,
   "id": "4b396936",
   "metadata": {},
   "outputs": [
    {
     "data": {
      "text/plain": [
       "0.7691187739463602"
      ]
     },
     "execution_count": 132,
     "metadata": {},
     "output_type": "execute_result"
    }
   ],
   "source": [
    "## calculation of adjusted r2 score\n",
    "adjusted_r2 = 1-(1-0.77)*(268-6)/(268-6-1)\n",
    "adjusted_r2"
   ]
  },
  {
   "cell_type": "code",
   "execution_count": 133,
   "id": "5456e94d",
   "metadata": {},
   "outputs": [
    {
     "data": {
      "text/plain": [
       "(268, 6)"
      ]
     },
     "execution_count": 133,
     "metadata": {},
     "output_type": "execute_result"
    }
   ],
   "source": [
    "X_test.shape"
   ]
  },
  {
   "cell_type": "code",
   "execution_count": 134,
   "id": "70fba272",
   "metadata": {},
   "outputs": [
    {
     "name": "stdout",
     "output_type": "stream",
     "text": [
      "35381144.90747706\n",
      "5948.205183706851\n"
     ]
    }
   ],
   "source": [
    "import math\n",
    "print(mean_squared_error(y_test,y_predict))\n",
    "print(math.sqrt(mean_squared_error(y_test,y_predict)))\n",
    "# root mean squared error"
   ]
  },
  {
   "cell_type": "code",
   "execution_count": 135,
   "id": "73de92fe",
   "metadata": {},
   "outputs": [
    {
     "data": {
      "text/plain": [
       "13307.64219307494"
      ]
     },
     "execution_count": 135,
     "metadata": {},
     "output_type": "execute_result"
    }
   ],
   "source": [
    "LR.intercept_"
   ]
  },
  {
   "cell_type": "code",
   "execution_count": 136,
   "id": "e8e51700",
   "metadata": {},
   "outputs": [
    {
     "data": {
      "text/plain": [
       "array([3589.10878624,   15.28050784, 2094.49798267,  502.13789535,\n",
       "       9544.51001478, -252.95700452])"
      ]
     },
     "execution_count": 136,
     "metadata": {},
     "output_type": "execute_result"
    }
   ],
   "source": [
    "LR.coef_"
   ]
  },
  {
   "cell_type": "markdown",
   "id": "2d31ef8a",
   "metadata": {},
   "source": [
    "# Decision Tree"
   ]
  },
  {
   "cell_type": "code",
   "execution_count": 139,
   "id": "51645c56",
   "metadata": {},
   "outputs": [
    {
     "data": {
      "text/plain": [
       "array([ 8606.2174  ,  4571.41305 , 28950.4692  ,  9500.57305 ,\n",
       "       33732.6867  , 11326.71487 ,  2585.85065 , 14410.9321  ,\n",
       "        2775.19215 , 10407.08585 , 19361.9988  ,  6710.1919  ,\n",
       "        4350.5144  , 46200.9851  , 48173.361   , 48885.13561 ,\n",
       "        8347.1643  , 41676.0811  ,  8703.456   , 21348.706   ,\n",
       "        5615.369   ,  8522.003   ,  1253.936   ,  2741.948   ,\n",
       "       10493.9458  , 10435.06525 , 13228.84695 ,  4618.0799  ,\n",
       "        9447.25035 ,  1163.4627  ,  8162.71625 , 11840.77505 ,\n",
       "       11482.63485 ,  5325.651   ,  2902.9065  ,  9704.66805 ,\n",
       "        2585.269   ,  6849.026   , 24869.8368  , 37742.5757  ,\n",
       "        2913.569   ,  2639.0429  , 11945.1327  , 12323.936   ,\n",
       "        5124.1887  , 12913.9924  , 26018.95052 ,  5615.369   ,\n",
       "       40273.6455  ,  4673.3922  , 13887.9685  ,  1720.3537  ,\n",
       "        6393.60345 ,  1708.0014  , 10601.412   , 10600.5483  ,\n",
       "        3857.75925 , 58571.07448 , 12231.6136  , 10072.05505 ,\n",
       "       13462.52    ,  4949.7587  , 15170.069   ,  7201.70085 ,\n",
       "       10797.3362  ,  4441.21315 , 16232.847   , 11741.726   ,\n",
       "        3206.49135 ,  1526.312   ,  6555.07035 ,  8116.26885 ,\n",
       "        8240.5896  , 23563.01618 ,  7147.4728  ,  4399.731   ,\n",
       "        4827.90495 , 25517.11363 ,  3981.9768  ,  8515.7587  ,\n",
       "        1532.4697  , 27808.7251  ,  4934.705   , 37484.4493  ,\n",
       "       32548.3405  , 41919.097   ,  5425.02335 , 10704.47    ,\n",
       "        8413.46305 , 10325.206   , 31620.00106 , 26926.5144  ,\n",
       "       38245.59327 ,  4435.0942  , 55135.40209 ,  7160.094   ,\n",
       "       19933.458   , 11482.63485 , 16657.71745 , 27375.90478 ,\n",
       "        4337.7352  ,  1744.465   ,  5699.8375  , 12646.207   ,\n",
       "       13616.3586  ,  1725.5523  ,  8520.026   , 22412.6485  ,\n",
       "        1704.5681  , 24667.419   ,  1261.442   ,  3238.4357  ,\n",
       "       11763.0009  , 35491.64    ,  9583.8933  ,  2362.22905 ,\n",
       "       12730.9996  , 21348.706   ,  6311.952   ,  2438.0552  ,\n",
       "        5148.5526  ,  7160.094   , 26467.09737 ,  2498.4144  ,\n",
       "        4340.4409  ,  7209.4918  , 18806.14547 ,  9290.1395  ,\n",
       "       21797.0004  ,  3994.1778  ,  3757.8448  ,  5926.846   ,\n",
       "        5846.9176  ,  8023.13545 ,  5662.225   , 28287.89766 ,\n",
       "        4347.02335 , 38998.546   , 48885.13561 , 39047.285   ,\n",
       "        4571.41305 , 20878.78443 ,  2498.4144  , 26467.09737 ,\n",
       "        1981.5819  , 23807.2406  ,  5257.50795 ,  4357.04365 ,\n",
       "       10848.1343  , 16796.41194 , 48549.17835 ,  2850.68375 ,\n",
       "        1149.3959  , 37079.372   ,  6123.5688  ,  5469.0066  ,\n",
       "       14043.4767  , 21232.18226 , 36021.0112  , 39047.285   ,\n",
       "       27322.73386 ,  2709.24395 , 16455.70785 , 23288.9284  ,\n",
       "        4260.744   ,  7160.3303  , 49577.6624  , 45008.9555  ,\n",
       "       39727.614   ,  3172.018   ,  9855.1314  ,  5976.8311  ,\n",
       "        6555.07035 ,  4441.21315 ,  2150.469   , 21677.28345 ,\n",
       "       16884.924   , 14313.8463  , 16776.30405 , 12032.326   ,\n",
       "       28950.4692  ,  2709.24395 ,  8627.5411  , 14358.36437 ,\n",
       "        4827.90495 ,  2850.68375 ,  4040.55825 ,  3353.284   ,\n",
       "        8347.1643  , 10796.35025 ,  4260.744   , 11774.159275,\n",
       "        2585.85065 , 58571.07448 , 12982.8747  ,  9877.6077  ,\n",
       "        2709.24395 , 11881.358   ,  2196.4732  ,  8444.474   ,\n",
       "        3176.8159  , 23065.4207  ,  4686.3887  ,  3077.0955  ,\n",
       "       16232.847   , 17496.306   , 25656.57526 , 18838.70366 ,\n",
       "        8347.1643  ,  3353.4703  , 13451.122   , 27117.99378 ,\n",
       "        8413.46305 , 19199.944   , 23563.01618 ,  3857.75925 ,\n",
       "        4562.8421  , 14001.1338  , 24513.09126 ,  5246.047   ,\n",
       "        2261.5688  ,  8023.13545 ,  6796.86325 , 48885.13561 ,\n",
       "        1909.52745 , 34806.4677  ,  1728.897   ,  1639.5631  ,\n",
       "        9386.1613  , 10381.4787  ,  1532.4697  ,  9361.3268  ,\n",
       "        4906.40965 , 21348.706   , 10065.413   ,  8978.1851  ,\n",
       "        4058.71245 ,  5699.8375  , 46200.9851  ,  1532.4697  ,\n",
       "       13012.20865 , 36950.2567  ,  3201.24515 ,  3392.3652  ,\n",
       "        1632.56445 ,  2523.1695  ,  4189.1131  ,  4462.7218  ,\n",
       "       20462.99766 ,  1625.43375 ,  1880.487   ,  7954.517   ,\n",
       "        3353.284   , 12032.326   ,  2331.519   ,  3227.1211  ,\n",
       "       12730.9996  ,  3490.5491  ,  9361.3268  ,  4827.90495 ,\n",
       "        7954.517   , 13616.3586  , 19933.458   , 46599.1084  ,\n",
       "       10965.446   ,  6555.07035 , 42303.69215 ,  9877.6077  ])"
      ]
     },
     "execution_count": 139,
     "metadata": {},
     "output_type": "execute_result"
    }
   ],
   "source": [
    "from sklearn.tree import DecisionTreeRegressor\n",
    "dt=DecisionTreeRegressor() \n",
    "dt.fit(X_train,y_train)\n",
    "y_hat=dt.predict(X_test)\n",
    "y_hat "
   ]
  },
  {
   "cell_type": "code",
   "execution_count": 140,
   "id": "fb4c6089",
   "metadata": {},
   "outputs": [
    {
     "data": {
      "text/plain": [
       "array([ 9193.8385 ,  8534.6718 , 27117.99378, ..., 11931.12525,\n",
       "       46113.511  , 10214.636  ])"
      ]
     },
     "execution_count": 140,
     "metadata": {},
     "output_type": "execute_result"
    }
   ],
   "source": [
    "y_train_predict=dt.predict(X_train)\n",
    "y_train_predict"
   ]
  },
  {
   "cell_type": "code",
   "execution_count": 141,
   "id": "750d797f",
   "metadata": {},
   "outputs": [],
   "source": [
    "## evaluating the model created\n",
    "from sklearn.metrics import r2_score,mean_squared_error,mean_absolute_error\n",
    "y_train_predict=dt.predict(X_train)"
   ]
  },
  {
   "cell_type": "code",
   "execution_count": 142,
   "id": "dc6108ad",
   "metadata": {},
   "outputs": [],
   "source": [
    "r2score=r2_score(y_test,y_hat)"
   ]
  },
  {
   "cell_type": "code",
   "execution_count": 143,
   "id": "bc433088",
   "metadata": {},
   "outputs": [
    {
     "data": {
      "text/plain": [
       "0.7289918078846399"
      ]
     },
     "execution_count": 143,
     "metadata": {},
     "output_type": "execute_result"
    }
   ],
   "source": [
    "r2=r2score\n",
    "r2"
   ]
  },
  {
   "cell_type": "code",
   "execution_count": 144,
   "id": "49e6a904",
   "metadata": {},
   "outputs": [
    {
     "data": {
      "text/plain": [
       "(268, 6)"
      ]
     },
     "execution_count": 144,
     "metadata": {},
     "output_type": "execute_result"
    }
   ],
   "source": [
    "X_test.shape"
   ]
  },
  {
   "cell_type": "code",
   "execution_count": 147,
   "id": "c5b160c8",
   "metadata": {},
   "outputs": [
    {
     "data": {
      "text/plain": [
       "0.718927203065134"
      ]
     },
     "execution_count": 147,
     "metadata": {},
     "output_type": "execute_result"
    }
   ],
   "source": [
    "adj=1-(1-0.72)*(268-6)/(268-6-1)\n",
    "adj"
   ]
  },
  {
   "cell_type": "markdown",
   "id": "c198385e",
   "metadata": {},
   "source": [
    "# Hyperparameter"
   ]
  },
  {
   "cell_type": "code",
   "execution_count": 148,
   "id": "8fc92ccb",
   "metadata": {},
   "outputs": [],
   "source": [
    "from sklearn.model_selection import GridSearchCV"
   ]
  },
  {
   "cell_type": "code",
   "execution_count": 149,
   "id": "54798ecb",
   "metadata": {},
   "outputs": [
    {
     "name": "stdout",
     "output_type": "stream",
     "text": [
      "Fitting 3 folds for each of 4332 candidates, totalling 12996 fits\n",
      "Best paramters: {'criterion': 'absolute_error', 'max_depth': 5, 'min_samples_leaf': 8, 'min_samples_split': 2, 'splitter': 'best'})\n"
     ]
    }
   ],
   "source": [
    "params = {\n",
    "    \"criterion\":(\"squared_error\",\"absolute_error\"), #quality of split\n",
    "    \"splitter\":(\"best\", \"random\"), # searches the features for a split\n",
    "    \"max_depth\":(list(range(1, 20))), #depth of tree range from 1 to 19\n",
    "    \"min_samples_split\":[2,4,6],    #the minimum number of samples required to split internal node\n",
    "    \"min_samples_leaf\":list(range(1, 20)),#minimum number of samples required to be at a leaf node,we are passing list which is range from 1 to 19 \n",
    "}\n",
    "\n",
    "\n",
    "tree_clf = DecisionTreeRegressor(random_state=3)#object creation for decision tree with random state 3\n",
    "tree_cv = GridSearchCV(tree_clf, params, scoring=\"r2\", n_jobs=-1, \n",
    "                       verbose=1, cv=3)\n",
    "\n",
    "\n",
    "tree_cv.fit(X_train,y_train)#training data on gridsearch cv\n",
    "best_params = tree_cv.best_params_#it will give you best parameters \n",
    "print(f\"Best paramters: {best_params})\")#printing  best parameters"
   ]
  },
  {
   "cell_type": "code",
   "execution_count": 155,
   "id": "0eab0c0d",
   "metadata": {},
   "outputs": [],
   "source": [
    "Bestparamters: ({'criterion': 'absolute_error', 'max_depth': 5, 'min_samples_leaf': 8, 'min_samples_split': 2, 'splitter': 'best'})"
   ]
  },
  {
   "cell_type": "code",
   "execution_count": 157,
   "id": "ded6cc4c",
   "metadata": {},
   "outputs": [
    {
     "data": {
      "text/plain": [
       "0.8412572843419667"
      ]
     },
     "execution_count": 157,
     "metadata": {},
     "output_type": "execute_result"
    }
   ],
   "source": [
    "tree_cv.best_score_"
   ]
  },
  {
   "cell_type": "code",
   "execution_count": 158,
   "id": "0c986de5",
   "metadata": {},
   "outputs": [],
   "source": [
    "dt1=DecisionTreeRegressor(criterion='absolute_error',max_depth=5,min_samples_leaf= 5,min_samples_split=2,splitter='best')"
   ]
  },
  {
   "cell_type": "code",
   "execution_count": 159,
   "id": "778f8ccc",
   "metadata": {},
   "outputs": [
    {
     "data": {
      "text/plain": [
       "DecisionTreeRegressor(criterion='absolute_error', max_depth=5,\n",
       "                      min_samples_leaf=5)"
      ]
     },
     "execution_count": 159,
     "metadata": {},
     "output_type": "execute_result"
    }
   ],
   "source": [
    "dt1.fit(X_train,y_train)"
   ]
  },
  {
   "cell_type": "code",
   "execution_count": 160,
   "id": "d736aa01",
   "metadata": {},
   "outputs": [
    {
     "data": {
      "text/plain": [
       "array([ 8615.3     ,  4728.896125, 27808.7251  ,  8615.3     ,\n",
       "       34779.615   ,  4728.896125,  1879.2082  , 14402.745   ,\n",
       "        3066.658475, 10848.1343  , 19199.944   ,  6571.02435 ,\n",
       "        4728.896125, 45863.205   , 47450.187225, 45863.205   ,\n",
       "       10848.1343  , 45863.205   ,  8023.13545 , 20759.808425,\n",
       "        4438.2634  ,  8615.3     ,  1879.2082  ,  1879.2082  ,\n",
       "       10848.1343  , 11381.3254  , 13290.473375,  4438.2634  ,\n",
       "        8615.3     ,  1879.2082  ,  7954.517   , 11381.3254  ,\n",
       "        1879.2082  ,  6347.668575,  3066.658475,  8023.13545 ,\n",
       "        1879.2082  ,  8023.13545 , 24520.264   , 40103.89    ,\n",
       "        3462.466   ,  1879.2082  , 11381.3254  , 13290.473375,\n",
       "        4728.896125, 13290.473375,  3462.466   ,  4438.2634  ,\n",
       "       41347.9117  ,  4728.896125, 14402.745   ,  1879.2082  ,\n",
       "        6571.02435 ,  1879.2082  , 11381.3254  , 10848.1343  ,\n",
       "        4728.896125, 40103.89    , 11381.3254  ,  9549.5651  ,\n",
       "       14402.745   ,  4728.896125, 13290.473375,  6571.02435 ,\n",
       "        9549.5651  ,  3066.658475, 17468.9839  , 10848.1343  ,\n",
       "        3066.658475,  1879.2082  ,  6571.02435 ,  8615.3     ,\n",
       "        9549.5651  ,  6571.02435 ,  8023.13545 ,  4728.896125,\n",
       "        4438.2634  , 11381.3254  ,  4438.2634  ,  8615.3     ,\n",
       "        1879.2082  , 27808.7251  ,  4728.896125, 37805.3479  ,\n",
       "       34779.615   , 41347.9117  ,  6347.668575, 11381.3254  ,\n",
       "        8615.3     , 10848.1343  , 13290.473375, 27808.7251  ,\n",
       "       24520.264   ,  4728.896125, 40103.89    ,  6571.02435 ,\n",
       "       19199.944   ,  1879.2082  , 20759.808425,  4728.896125,\n",
       "        4728.896125,  1879.2082  ,  6571.02435 , 12482.754925,\n",
       "       13290.473375,  1879.2082  ,  8615.3     , 22315.3817  ,\n",
       "        1879.2082  , 22315.3817  ,  1879.2082  ,  3066.658475,\n",
       "       11381.3254  , 40103.89    ,  9549.5651  ,  1879.2082  ,\n",
       "       13290.473375, 19199.944   ,  6571.02435 ,  3066.658475,\n",
       "        4728.896125,  6571.02435 , 10848.1343  ,  3066.658475,\n",
       "        4438.2634  ,  6571.02435 ,  8023.13545 ,  9549.5651  ,\n",
       "       13290.473375,  3066.658475,  4728.896125,  6347.668575,\n",
       "        4728.896125,  8023.13545 ,  6571.02435 , 13290.473375,\n",
       "        4728.896125, 41347.9117  , 45863.205   , 37014.81435 ,\n",
       "        4728.896125,  9549.5651  ,  3066.658475, 10848.1343  ,\n",
       "        3066.658475, 24520.264   ,  4728.896125,  4728.896125,\n",
       "       10848.1343  ,  4728.896125, 44412.1047  ,  3066.658475,\n",
       "        1879.2082  , 40103.89    ,  6571.02435 ,  4728.896125,\n",
       "       13290.473375,  8023.13545 , 34779.615   , 40103.89    ,\n",
       "       12482.754925,  1879.2082  , 14402.745   ,  3066.658475,\n",
       "        4438.2634  ,  6571.02435 , 47450.187225, 47450.187225,\n",
       "       41347.9117  ,  3066.658475,  9549.5651  ,  6571.02435 ,\n",
       "        6571.02435 ,  4728.896125,  1879.2082  , 24520.264   ,\n",
       "       17468.9839  , 14402.745   , 20759.808425, 11381.3254  ,\n",
       "       27808.7251  ,  1879.2082  ,  8023.13545 ,  4728.896125,\n",
       "        6347.668575,  3066.658475,  4728.896125,  4728.896125,\n",
       "        8023.13545 , 11381.3254  ,  4438.2634  ,  1879.2082  ,\n",
       "        1879.2082  , 40103.89    , 13290.473375,  9549.5651  ,\n",
       "        1879.2082  , 12482.754925,  1879.2082  ,  9549.5651  ,\n",
       "        3066.658475, 24520.264   ,  4728.896125,  3462.466   ,\n",
       "       17468.9839  , 17468.9839  ,  9549.5651  ,  3462.466   ,\n",
       "        9549.5651  ,  3066.658475, 13290.473375, 11381.3254  ,\n",
       "        8615.3     , 17468.9839  ,  6571.02435 ,  4728.896125,\n",
       "        4728.896125, 13290.473375, 13290.473375,  4728.896125,\n",
       "        1879.2082  ,  8023.13545 ,  7954.517   , 45863.205   ,\n",
       "        1879.2082  , 37014.81435 ,  1879.2082  ,  1879.2082  ,\n",
       "        9549.5651  , 10848.1343  ,  1879.2082  ,  9549.5651  ,\n",
       "        4728.896125, 19199.944   ,  9549.5651  ,  9549.5651  ,\n",
       "        4438.2634  ,  6571.02435 , 45863.205   ,  1879.2082  ,\n",
       "       13290.473375, 40103.89    ,  3066.658475,  3066.658475,\n",
       "        1879.2082  ,  3066.658475,  4438.2634  ,  4728.896125,\n",
       "       10848.1343  ,  1879.2082  ,  1879.2082  ,  7954.517   ,\n",
       "        3066.658475, 11381.3254  ,  1879.2082  ,  3066.658475,\n",
       "       13290.473375,  3066.658475,  9549.5651  ,  6347.668575,\n",
       "        7954.517   , 13290.473375, 17468.9839  , 47450.187225,\n",
       "       11381.3254  ,  6571.02435 , 44412.1047  ,  9549.5651  ])"
      ]
     },
     "execution_count": 160,
     "metadata": {},
     "output_type": "execute_result"
    }
   ],
   "source": [
    "y_hat1=dt1.predict(X_test)#predicting\n",
    "y_hat1"
   ]
  },
  {
   "cell_type": "code",
   "execution_count": 161,
   "id": "85bcb2f3",
   "metadata": {},
   "outputs": [],
   "source": [
    "r2score=r2_score(y_test,y_hat)"
   ]
  },
  {
   "cell_type": "code",
   "execution_count": 162,
   "id": "85f6e8a8",
   "metadata": {},
   "outputs": [
    {
     "data": {
      "text/plain": [
       "0.7289918078846399"
      ]
     },
     "execution_count": 162,
     "metadata": {},
     "output_type": "execute_result"
    }
   ],
   "source": [
    "r2=r2score\n",
    "r2"
   ]
  },
  {
   "cell_type": "code",
   "execution_count": 163,
   "id": "4f2a4063",
   "metadata": {},
   "outputs": [
    {
     "data": {
      "text/plain": [
       "(268, 6)"
      ]
     },
     "execution_count": 163,
     "metadata": {},
     "output_type": "execute_result"
    }
   ],
   "source": [
    "X_test.shape"
   ]
  },
  {
   "cell_type": "code",
   "execution_count": 164,
   "id": "f9bd4b39",
   "metadata": {},
   "outputs": [
    {
     "data": {
      "text/plain": [
       "0.718927203065134"
      ]
     },
     "execution_count": 164,
     "metadata": {},
     "output_type": "execute_result"
    }
   ],
   "source": [
    "adj=1-(1-0.72)*(268-6)/(268-6-1)\n",
    "adj"
   ]
  },
  {
   "cell_type": "markdown",
   "id": "cdc279e3",
   "metadata": {},
   "source": [
    "# Random Forest"
   ]
  },
  {
   "cell_type": "code",
   "execution_count": 165,
   "id": "6fa14545",
   "metadata": {},
   "outputs": [
    {
     "data": {
      "text/plain": [
       "RandomForestRegressor()"
      ]
     },
     "execution_count": 165,
     "metadata": {},
     "output_type": "execute_result"
    }
   ],
   "source": [
    "from sklearn.ensemble import RandomForestRegressor#importing randomforest\n",
    "\n",
    "rf_clf = RandomForestRegressor(n_estimators=100)#object creation ,taking 100 decision tree in random forest \n",
    "rf_clf.fit(X_train,y_train)"
   ]
  },
  {
   "cell_type": "code",
   "execution_count": 166,
   "id": "aaef0d96",
   "metadata": {},
   "outputs": [],
   "source": [
    "y_predict=rf_clf.predict(X_test)#testing"
   ]
  },
  {
   "cell_type": "code",
   "execution_count": 167,
   "id": "025eb035",
   "metadata": {},
   "outputs": [],
   "source": [
    "r2score=r2_score(y_test,y_predict)"
   ]
  },
  {
   "cell_type": "code",
   "execution_count": 168,
   "id": "fa140a38",
   "metadata": {},
   "outputs": [
    {
     "data": {
      "text/plain": [
       "0.8635424330557767"
      ]
     },
     "execution_count": 168,
     "metadata": {},
     "output_type": "execute_result"
    }
   ],
   "source": [
    "r2score"
   ]
  },
  {
   "cell_type": "code",
   "execution_count": 169,
   "id": "e7a61325",
   "metadata": {},
   "outputs": [
    {
     "data": {
      "text/plain": [
       "(268, 6)"
      ]
     },
     "execution_count": 169,
     "metadata": {},
     "output_type": "execute_result"
    }
   ],
   "source": [
    "X_test.shape"
   ]
  },
  {
   "cell_type": "code",
   "execution_count": 171,
   "id": "b3daab7b",
   "metadata": {},
   "outputs": [
    {
     "data": {
      "text/plain": [
       "0.859463601532567"
      ]
     },
     "execution_count": 171,
     "metadata": {},
     "output_type": "execute_result"
    }
   ],
   "source": [
    "adj=1-(1-0.86)*(268-6)/(268-6-1)\n",
    "adj"
   ]
  },
  {
   "cell_type": "markdown",
   "id": "e854b68b",
   "metadata": {},
   "source": [
    "# Hyperparameter"
   ]
  },
  {
   "cell_type": "code",
   "execution_count": 173,
   "id": "3c7ebbc5",
   "metadata": {},
   "outputs": [
    {
     "name": "stdout",
     "output_type": "stream",
     "text": [
      "Fitting 3 folds for each of 100 candidates, totalling 300 fits\n",
      "Best paramters: {'n_estimators': 200, 'min_samples_split': 12, 'min_samples_leaf': 10, 'max_features': 'auto', 'max_depth': 10, 'bootstrap': True})\n"
     ]
    }
   ],
   "source": [
    "from sklearn.model_selection import RandomizedSearchCV\n",
    "\n",
    "n_estimators = [int(x) for x in np.linspace(start=200, stop=2000, num=10)]#List Comprehension-using for loop in list\n",
    "max_features = ['auto', 'sqrt']#maximum number of features allowed to try in individual tree\n",
    "max_depth = [int(x) for x in np.linspace(10, 110, num=11)]#List Comprehension-using for loop in list\n",
    "max_depth.append(None)\n",
    "min_samples_split = [5, 12, 20]#minimum number of samples required to split an internal node\n",
    "min_samples_leaf = [1, 5, 10]#minimum number of samples required to be at a leaf node.\n",
    "bootstrap = [True, False]#sampling \n",
    "\n",
    "#dictionary for hyperparameters\n",
    "random_grid = {'n_estimators': n_estimators, 'max_features': max_features,\n",
    "               'max_depth': max_depth, 'min_samples_split': min_samples_split,\n",
    "               'min_samples_leaf': min_samples_leaf, 'bootstrap': bootstrap}\n",
    "\n",
    "rf_clf1 = RandomForestRegressor(random_state=42)#model\n",
    "\n",
    "rf_cv = RandomizedSearchCV(estimator=rf_clf1, scoring='r2',param_distributions=random_grid, n_iter=100, cv=3, \n",
    "                               verbose=2, random_state=42, n_jobs=-1)\n",
    "\n",
    "\n",
    "rf_cv.fit(X_train, y_train)##training data on randomsearch cv\n",
    "rf_best_params = rf_cv.best_params_##it will give you best parameters \n",
    "print(f\"Best paramters: {rf_best_params})\")##printing  best parameters"
   ]
  },
  {
   "cell_type": "code",
   "execution_count": 174,
   "id": "93f92c79",
   "metadata": {},
   "outputs": [],
   "source": [
    "rf_clf2 = RandomForestRegressor(n_estimators=200, min_samples_split=12, min_samples_leaf=10,max_features='auto',max_depth=10,bootstrap=True)\n",
    "rf_clf2.fit(X_train, y_train)#training \n",
    "y_predict=rf_clf2.predict(X_test)#testing"
   ]
  },
  {
   "cell_type": "code",
   "execution_count": 175,
   "id": "2486984f",
   "metadata": {},
   "outputs": [],
   "source": [
    "r2score=r2_score(y_test,y_predict)"
   ]
  },
  {
   "cell_type": "code",
   "execution_count": 176,
   "id": "6f3b830f",
   "metadata": {},
   "outputs": [
    {
     "data": {
      "text/plain": [
       "0.8741343190149287"
      ]
     },
     "execution_count": 176,
     "metadata": {},
     "output_type": "execute_result"
    }
   ],
   "source": [
    "r2score"
   ]
  },
  {
   "cell_type": "code",
   "execution_count": 177,
   "id": "fe6552aa",
   "metadata": {},
   "outputs": [
    {
     "data": {
      "text/plain": [
       "0.8695019157088122"
      ]
     },
     "execution_count": 177,
     "metadata": {},
     "output_type": "execute_result"
    }
   ],
   "source": [
    "adj=1-(1-0.87)*(268-6)/(268-6-1)\n",
    "adj"
   ]
  },
  {
   "cell_type": "markdown",
   "id": "4d2b7908",
   "metadata": {},
   "source": [
    "# GradientBoostingRegressor"
   ]
  },
  {
   "cell_type": "code",
   "execution_count": 178,
   "id": "364d08e5",
   "metadata": {},
   "outputs": [],
   "source": [
    "from sklearn.ensemble import GradientBoostingRegressor\n",
    "\n",
    "gbr=GradientBoostingRegressor()\n",
    "gbr.fit(X_train,y_train)\n",
    "y_predict=gbr.predict(X_test)"
   ]
  },
  {
   "cell_type": "code",
   "execution_count": 179,
   "id": "4afbfc85",
   "metadata": {},
   "outputs": [
    {
     "data": {
      "text/plain": [
       "0.8741448309867361"
      ]
     },
     "execution_count": 179,
     "metadata": {},
     "output_type": "execute_result"
    }
   ],
   "source": [
    "from sklearn.metrics import r2_score,mean_squared_error,mean_absolute_error\n",
    "\n",
    "r2score=r2_score(y_test,y_predict)\n",
    "r2score"
   ]
  },
  {
   "cell_type": "code",
   "execution_count": 182,
   "id": "621c483c",
   "metadata": {},
   "outputs": [
    {
     "data": {
      "text/plain": [
       "0.8293486590038314"
      ]
     },
     "execution_count": 182,
     "metadata": {},
     "output_type": "execute_result"
    }
   ],
   "source": [
    "adj_score=1-(1-0.83)*(268-6)/(268-6-1)\n",
    "adj_score"
   ]
  },
  {
   "cell_type": "code",
   "execution_count": 183,
   "id": "2c6400ab",
   "metadata": {},
   "outputs": [],
   "source": [
    "import math"
   ]
  },
  {
   "cell_type": "code",
   "execution_count": 184,
   "id": "1f6f1c4b",
   "metadata": {},
   "outputs": [
    {
     "name": "stdout",
     "output_type": "stream",
     "text": [
      "19538855.340991978\n",
      "4420.277744779391\n"
     ]
    }
   ],
   "source": [
    "print(mean_squared_error(y_test,y_predict))\n",
    "print(math.sqrt(mean_squared_error(y_test,y_predict)))"
   ]
  },
  {
   "cell_type": "code",
   "execution_count": 185,
   "id": "0d266f2e",
   "metadata": {},
   "outputs": [
    {
     "name": "stdout",
     "output_type": "stream",
     "text": [
      "2438.2865656123745\n"
     ]
    }
   ],
   "source": [
    "print (mean_absolute_error(y_test,y_predict))"
   ]
  },
  {
   "cell_type": "markdown",
   "id": "ede84ffb",
   "metadata": {},
   "source": [
    "# XGBoost"
   ]
  },
  {
   "cell_type": "code",
   "execution_count": 186,
   "id": "8fa2864b",
   "metadata": {},
   "outputs": [],
   "source": [
    "import xgboost"
   ]
  },
  {
   "cell_type": "code",
   "execution_count": 187,
   "id": "cf26d8bc",
   "metadata": {},
   "outputs": [
    {
     "name": "stdout",
     "output_type": "stream",
     "text": [
      "<class 'pandas.core.frame.DataFrame'>\n",
      "RangeIndex: 1338 entries, 0 to 1337\n",
      "Data columns (total 7 columns):\n",
      " #   Column    Non-Null Count  Dtype  \n",
      "---  ------    --------------  -----  \n",
      " 0   age       1338 non-null   int64  \n",
      " 1   sex       1338 non-null   int64  \n",
      " 2   bmi       1338 non-null   float64\n",
      " 3   children  1338 non-null   int64  \n",
      " 4   smoker    1338 non-null   int64  \n",
      " 5   region    1338 non-null   int64  \n",
      " 6   charges   1338 non-null   float64\n",
      "dtypes: float64(2), int64(5)\n",
      "memory usage: 73.3 KB\n"
     ]
    }
   ],
   "source": [
    "df.info()"
   ]
  },
  {
   "cell_type": "code",
   "execution_count": 188,
   "id": "3dca1364",
   "metadata": {},
   "outputs": [
    {
     "data": {
      "text/plain": [
       "array([12052.896  ,  7417.385  , 32305.3    ,  8384.016  , 33408.12   ,\n",
       "        6985.4746 ,  -279.42026, 16378.982  ,  3851.3113 , 10596.144  ,\n",
       "       20426.734  ,  7996.927  ,  4145.7905 , 45009.137  , 46826.94   ,\n",
       "       42312.47   ,  9924.408  , 41106.92   , 10178.307  , 22322.922  ,\n",
       "        3940.433  ,  8275.684  ,   670.388  ,  2768.786  , 12055.9375 ,\n",
       "       12584.133  , 14599.803  ,  6954.3506 ,  9199.571  ,  4231.4526 ,\n",
       "        7635.9536 , 12938.78   ,  2293.2761 ,  4251.221  ,  7110.027  ,\n",
       "       10787.324  ,  3586.0872 ,  7178.375  , 25211.44   , 38933.73   ,\n",
       "        3383.1301 ,  3500.4639 , 10051.799  , 14939.102  ,  6893.7188 ,\n",
       "       12853.38   , 17776.645  ,  8109.288  , 42002.992  ,  7000.6196 ,\n",
       "       13364.441  ,   944.3435 ,  4867.189  ,   843.14276, 10494.726  ,\n",
       "        9457.153  ,  2237.8845 , 41899.293  , 12343.86   , 16571.08   ,\n",
       "       14336.584  ,  4688.2837 , 18387.701  , 11580.262  , 10997.188  ,\n",
       "        6383.101  , 16627.002  , 14365.087  ,  3620.1074 ,  2000.3296 ,\n",
       "        8100.35   , 13239.444  , 10268.016  ,  9286.7295 , 10030.486  ,\n",
       "        4459.612  ,  9190.077  , 13505.332  ,  4527.7876 , 10181.474  ,\n",
       "        3220.311  , 28471.318  , 11077.421  , 38692.77   , 33959.72   ,\n",
       "       42871.992  ,  3041.824  , 10865.209  , 10984.815  , 15812.088  ,\n",
       "       26222.357  , 25475.227  , 31233.77   ,  6745.5537 , 45471.477  ,\n",
       "        6728.558  , 19523.604  ,  2951.288  , 17788.05   , 11160.428  ,\n",
       "        5337.881  ,  1197.3787 ,  6280.576  , 11275.113  , 12791.766  ,\n",
       "        4172.6245 ,  8944.534  , 21159.79   ,  2005.8551 , 23958.188  ,\n",
       "        -141.89204,  5229.5    , 12691.428  , 39173.457  , 11364.736  ,\n",
       "        5573.0674 , 12410.058  , 22906.191  ,  7200.02   ,  6364.9326 ,\n",
       "        4956.504  ,  9953.447  , 15976.038  ,  2864.0037 ,  6756.0293 ,\n",
       "        6652.522  , 10676.701  ,  8149.099  , 18393.18   ,  2658.8145 ,\n",
       "        3649.1445 ,  6054.367  ,  7156.8057 , 14010.667  ,  9898.926  ,\n",
       "       23631.195  ,  4160.2266 , 42635.41   , 44425.137  , 37755.188  ,\n",
       "        3333.3875 ,  9759.41   ,  2398.965  , 15542.128  ,  1498.6182 ,\n",
       "       25424.396  ,  5525.3315 ,  3641.0918 , 12777.044  ,  4509.3286 ,\n",
       "       51425.758  ,  7141.8335 ,  3329.8186 , 38709.117  ,  4818.5215 ,\n",
       "        3705.309  , 14877.726  ,  8327.681  , 34197.777  , 38526.44   ,\n",
       "       13076.926  ,  4738.3916 , 20519.004  ,  4288.381  ,  5061.1914 ,\n",
       "        7195.543  , 49479.152  , 44875.723  , 41479.508  ,  3830.8284 ,\n",
       "        9967.345  ,  6830.354  ,  8345.232  ,  4509.4556 ,  7149.719  ,\n",
       "       22778.906  , 14960.746  , 11782.846  , 16132.179  , 10785.945  ,\n",
       "       28653.703  ,  3665.     ,  8207.108  ,  4729.4897 ,  4118.362  ,\n",
       "        9645.891  ,  9459.088  ,  3177.6216 ,  8162.115  , 11080.267  ,\n",
       "        2752.544  ,  2791.5798 ,  3726.649  , 49057.32   , 18766.75   ,\n",
       "        9801.153  ,  7886.7285 , 12216.841  ,  1533.4584 , 11343.626  ,\n",
       "        3275.617  , 32807.25   ,  4930.1045 ,  5511.6753 , 19815.701  ,\n",
       "       20754.365  , 10464.916  ,  8135.1533 ,  8081.985  ,  2816.4614 ,\n",
       "       13232.048  , 11732.556  , 12590.233  , 17509.924  , 12862.92   ,\n",
       "        4091.9585 ,  4876.03   , 16513.422  , 18755.734  ,  3729.8706 ,\n",
       "        2555.685  ,  9223.072  ,  6404.5986 , 48138.254  ,   909.07733,\n",
       "       37451.     ,   350.68936,  3569.064  ,  8476.647  ,  9686.427  ,\n",
       "        2395.5132 ,  9486.033  ,  7192.5674 , 23353.113  , 12122.407  ,\n",
       "       10625.693  ,  4900.488  ,  6810.832  , 43674.805  ,  4408.332  ,\n",
       "       14467.482  , 40420.766  ,  2657.89   ,  4408.186  ,   560.3404 ,\n",
       "        1454.1407 ,  3452.7852 ,  2831.283  , 12199.936  ,  1113.5414 ,\n",
       "        3282.7556 ,  7428.4966 ,  3098.1711 , 10698.109  ,  6380.1655 ,\n",
       "        3732.1147 , 12425.327  ,  7624.934  ,  9732.513  ,  8706.797  ,\n",
       "        6781.596  , 13542.492  , 19742.975  , 46487.293  , 11550.262  ,\n",
       "        6027.686  , 50066.902  ,  8880.528  ], dtype=float32)"
      ]
     },
     "execution_count": 188,
     "metadata": {},
     "output_type": "execute_result"
    }
   ],
   "source": [
    "from xgboost import XGBRegressor\n",
    "xgb=XGBRegressor()\n",
    "xgb.fit(X_train,y_train)\n",
    "y_hat=xgb.predict(X_test)\n",
    "y_hat"
   ]
  },
  {
   "cell_type": "code",
   "execution_count": 189,
   "id": "7af876c7",
   "metadata": {},
   "outputs": [
    {
     "data": {
      "text/plain": [
       "0.8377080967624271"
      ]
     },
     "execution_count": 189,
     "metadata": {},
     "output_type": "execute_result"
    }
   ],
   "source": [
    "r2score1=r2_score(y_test,y_hat)\n",
    "r2score1"
   ]
  },
  {
   "cell_type": "code",
   "execution_count": 190,
   "id": "333dfe52",
   "metadata": {},
   "outputs": [
    {
     "name": "stdout",
     "output_type": "stream",
     "text": [
      "2835.9502807252834\n",
      "25195612.10901884\n",
      "5019.52309577502\n"
     ]
    }
   ],
   "source": [
    "print(mean_absolute_error(y_test,y_hat))\n",
    "print(mean_squared_error(y_test,y_hat))\n",
    "print(math.sqrt(mean_squared_error(y_test,y_hat)))"
   ]
  },
  {
   "cell_type": "markdown",
   "id": "fa7adc5e",
   "metadata": {},
   "source": [
    "# Hyperparameter"
   ]
  },
  {
   "cell_type": "code",
   "execution_count": 191,
   "id": "d0991feb",
   "metadata": {},
   "outputs": [
    {
     "name": "stdout",
     "output_type": "stream",
     "text": [
      "Fitting 5 folds for each of 150 candidates, totalling 750 fits\n",
      "Best Parameter:{'reg_lambda': 0.6, 'reg_alpha': 56.4, 'n_estimators': 50, 'max_depth': 3, 'learning_rate': 0.1, 'gamma': 25.6}\n"
     ]
    }
   ],
   "source": [
    "from sklearn.model_selection import RandomizedSearchCV\n",
    "\n",
    "paramgrid={'gamma':[0,0.1,0.2,0.4,0.8,1.6,3.2,6.4,12.8,25.6],\n",
    "          'learning_rate':[0.1,0.01,0.001,0.0001],\n",
    "          'max_depth':[3,5,6,7,9,15],\n",
    "          'n_estimators':[50,65,35,85,45,100,125,150],\n",
    "          'reg_alpha':[0.2,0.4,0.6,0.8,22.2,36.8,56.4],\n",
    "          'reg_lambda':[0.2,0.4,0.6,0.8,22.2,36.8,56.4]}\n",
    "\n",
    "XGB=XGBRegressor(random_state=25,verbosity=0,silent=0)\n",
    "\n",
    "rcv=RandomizedSearchCV(estimator=XGB,param_distributions=paramgrid,n_iter=150,cv=5,verbose=2,random_state=26,n_jobs=-1)\n",
    "rcv.fit(X_train,y_train)\n",
    "cv_best_param=rcv.best_params_\n",
    "\n",
    "print(f\"Best Parameter:{cv_best_param}\")"
   ]
  },
  {
   "cell_type": "code",
   "execution_count": 192,
   "id": "f6214c59",
   "metadata": {},
   "outputs": [],
   "source": [
    "XGB2=XGBRegressor(reg_lambda=0.6, reg_alpha=56.4, n_estimators=50, max_depth=3, learning_rate=0.1, gamma=25.6)\n",
    "XGB2.fit(X_train,y_train)\n",
    "y_pred=XGB2.predict(X_test)\n",
    "r2=r2_score(y_test,y_pred)"
   ]
  },
  {
   "cell_type": "code",
   "execution_count": 193,
   "id": "a650feb0",
   "metadata": {},
   "outputs": [
    {
     "data": {
      "text/plain": [
       "0.8752758990748085"
      ]
     },
     "execution_count": 193,
     "metadata": {},
     "output_type": "execute_result"
    }
   ],
   "source": [
    "r2"
   ]
  },
  {
   "cell_type": "code",
   "execution_count": 194,
   "id": "76fd5f6f",
   "metadata": {},
   "outputs": [
    {
     "data": {
      "text/plain": [
       "0.8695019157088122"
      ]
     },
     "execution_count": 194,
     "metadata": {},
     "output_type": "execute_result"
    }
   ],
   "source": [
    "adj1=1-(1-0.87)*(268-6)/(268-6-1)\n",
    "adj1"
   ]
  },
  {
   "cell_type": "markdown",
   "id": "bab04f80",
   "metadata": {},
   "source": [
    "# Conclusion"
   ]
  },
  {
   "cell_type": "markdown",
   "id": "74a8109c",
   "metadata": {},
   "source": [
    "- Based on data analysis, we found that there were no any features which has strong correlation so we kept all the features\n",
    "\n",
    "- Here we tried 6 different models as our first step in modelling process,to evaluate & choose the best model as our baseline     model.\n",
    "\n",
    "- Based on the result, we found that XG boost with r2score after hyperparameter tuning is 0.875 or 87%."
   ]
  },
  {
   "cell_type": "code",
   "execution_count": null,
   "id": "54cffef0",
   "metadata": {},
   "outputs": [],
   "source": []
  }
 ],
 "metadata": {
  "kernelspec": {
   "display_name": "Python 3 (ipykernel)",
   "language": "python",
   "name": "python3"
  },
  "language_info": {
   "codemirror_mode": {
    "name": "ipython",
    "version": 3
   },
   "file_extension": ".py",
   "mimetype": "text/x-python",
   "name": "python",
   "nbconvert_exporter": "python",
   "pygments_lexer": "ipython3",
   "version": "3.9.13"
  }
 },
 "nbformat": 4,
 "nbformat_minor": 5
}
